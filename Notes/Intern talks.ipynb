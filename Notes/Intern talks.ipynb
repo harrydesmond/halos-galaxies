{
 "cells": [
  {
   "cell_type": "markdown",
   "metadata": {},
   "source": [
    "# Intern talks"
   ]
  },
  {
   "cell_type": "markdown",
   "metadata": {},
   "source": [
    "## 09/07/2019 Zooniverse\n",
    "\n",
    "- @drbecky\n",
    "- the penguin galaxy?\n",
    "- David Alonso doing CMBR statistics?\n",
    "\n",
    "\n",
    "- in simulation need to consider feedback from AGN and supernovas (might blow apart small galaxies)\n",
    "- AGN partially still only a theory? Not enough evidence? Some people still not convinced\n",
    "\n",
    "\n",
    "- blazar if looking at AGN directly onto the jet\n",
    "- quasar if looking from a side (not as bright)\n",
    "- Seyfert if looking from the side throught the opaque \"torus\""
   ]
  },
  {
   "cell_type": "code",
   "execution_count": null,
   "metadata": {},
   "outputs": [],
   "source": []
  },
  {
   "cell_type": "code",
   "execution_count": 4,
   "metadata": {
    "ExecuteTime": {
     "end_time": "2019-07-09T09:23:40.186459Z",
     "start_time": "2019-07-09T09:23:40.089643Z"
    }
   },
   "outputs": [
    {
     "data": {
      "text/plain": [
       "7.3010299956639813"
      ]
     },
     "execution_count": 4,
     "metadata": {},
     "output_type": "execute_result"
    }
   ],
   "source": [
    "import numpy as np\n",
    "np.log10(100000/0.005)\n"
   ]
  },
  {
   "cell_type": "code",
   "execution_count": null,
   "metadata": {},
   "outputs": [],
   "source": []
  }
 ],
 "metadata": {
  "kernelspec": {
   "display_name": "Python 3",
   "language": "python",
   "name": "python3"
  },
  "language_info": {
   "codemirror_mode": {
    "name": "ipython",
    "version": 3
   },
   "file_extension": ".py",
   "mimetype": "text/x-python",
   "name": "python",
   "nbconvert_exporter": "python",
   "pygments_lexer": "ipython3",
   "version": "3.6.8"
  }
 },
 "nbformat": 4,
 "nbformat_minor": 2
}
