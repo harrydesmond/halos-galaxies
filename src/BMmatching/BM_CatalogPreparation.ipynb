{
 "cells": [
  {
   "cell_type": "code",
   "execution_count": 1,
   "metadata": {
    "ExecuteTime": {
     "end_time": "2019-09-08T20:27:22.124110Z",
     "start_time": "2019-09-08T20:27:19.156850Z"
    },
    "scrolled": true
   },
   "outputs": [
    {
     "ename": "FileNotFoundError",
     "evalue": "[Errno 2] No such file or directory: '../../Data/HIdata/a100.180315.MWF.csv'",
     "output_type": "error",
     "traceback": [
      "\u001b[0;31m---------------------------------------------------------------------------\u001b[0m",
      "\u001b[0;31mFileNotFoundError\u001b[0m                         Traceback (most recent call last)",
      "\u001b[0;32m<ipython-input-1-19c1db165fc7>\u001b[0m in \u001b[0;36m<module>\u001b[0;34m()\u001b[0m\n\u001b[1;32m      9\u001b[0m \u001b[0;32mimport\u001b[0m \u001b[0mSetup\u001b[0m \u001b[0;32mas\u001b[0m \u001b[0mp\u001b[0m\u001b[0;34m\u001b[0m\u001b[0;34m\u001b[0m\u001b[0m\n\u001b[1;32m     10\u001b[0m \u001b[0;34m\u001b[0m\u001b[0m\n\u001b[0;32m---> 11\u001b[0;31m \u001b[0;32mimport\u001b[0m \u001b[0mSelectionFunc\u001b[0m\u001b[0;34m\u001b[0m\u001b[0;34m\u001b[0m\u001b[0m\n\u001b[0m",
      "\u001b[0;32m/mnt/zfsusers/rstiskalek/src/BMmatching/SelectionFunc.py\u001b[0m in \u001b[0;36m<module>\u001b[0;34m()\u001b[0m\n\u001b[1;32m     62\u001b[0m \u001b[0;34m\u001b[0m\u001b[0m\n\u001b[1;32m     63\u001b[0m \u001b[0;31m# Calculate HI selection function\u001b[0m\u001b[0;34m\u001b[0m\u001b[0;34m\u001b[0m\u001b[0;34m\u001b[0m\u001b[0m\n\u001b[0;32m---> 64\u001b[0;31m \u001b[0mMFWascii\u001b[0m \u001b[0;34m=\u001b[0m \u001b[0mascii\u001b[0m\u001b[0;34m.\u001b[0m\u001b[0mread\u001b[0m\u001b[0;34m(\u001b[0m\u001b[0;34m\"../../Data/HIdata/a100.180315.MWF.csv\"\u001b[0m\u001b[0;34m)\u001b[0m\u001b[0;34m\u001b[0m\u001b[0;34m\u001b[0m\u001b[0m\n\u001b[0m\u001b[1;32m     65\u001b[0m \u001b[0mMFW\u001b[0m \u001b[0;34m=\u001b[0m \u001b[0mnp\u001b[0m\u001b[0;34m.\u001b[0m\u001b[0mzeros\u001b[0m\u001b[0;34m(\u001b[0m\u001b[0mshape\u001b[0m\u001b[0;34m=\u001b[0m\u001b[0;34m(\u001b[0m\u001b[0;36m25\u001b[0m\u001b[0;34m,\u001b[0m \u001b[0;36m18\u001b[0m\u001b[0;34m)\u001b[0m\u001b[0;34m)\u001b[0m\u001b[0;34m\u001b[0m\u001b[0;34m\u001b[0m\u001b[0m\n\u001b[1;32m     66\u001b[0m \u001b[0;32mfor\u001b[0m \u001b[0mi\u001b[0m \u001b[0;32min\u001b[0m \u001b[0mrange\u001b[0m\u001b[0;34m(\u001b[0m\u001b[0;36m25\u001b[0m\u001b[0;34m)\u001b[0m\u001b[0;34m:\u001b[0m\u001b[0;34m\u001b[0m\u001b[0;34m\u001b[0m\u001b[0m\n",
      "\u001b[0;32m/usr/local/lib/python3.6/dist-packages/astropy/io/ascii/ui.py\u001b[0m in \u001b[0;36mread\u001b[0;34m(table, guess, **kwargs)\u001b[0m\n\u001b[1;32m    371\u001b[0m         \u001b[0;31m# through below to the non-guess way so that any problems result in a\u001b[0m\u001b[0;34m\u001b[0m\u001b[0;34m\u001b[0m\u001b[0;34m\u001b[0m\u001b[0m\n\u001b[1;32m    372\u001b[0m         \u001b[0;31m# more useful traceback.\u001b[0m\u001b[0;34m\u001b[0m\u001b[0;34m\u001b[0m\u001b[0;34m\u001b[0m\u001b[0m\n\u001b[0;32m--> 373\u001b[0;31m         \u001b[0mdat\u001b[0m \u001b[0;34m=\u001b[0m \u001b[0m_guess\u001b[0m\u001b[0;34m(\u001b[0m\u001b[0mtable\u001b[0m\u001b[0;34m,\u001b[0m \u001b[0mnew_kwargs\u001b[0m\u001b[0;34m,\u001b[0m \u001b[0mformat\u001b[0m\u001b[0;34m,\u001b[0m \u001b[0mfast_reader\u001b[0m\u001b[0;34m)\u001b[0m\u001b[0;34m\u001b[0m\u001b[0;34m\u001b[0m\u001b[0m\n\u001b[0m\u001b[1;32m    374\u001b[0m         \u001b[0;32mif\u001b[0m \u001b[0mdat\u001b[0m \u001b[0;32mis\u001b[0m \u001b[0;32mNone\u001b[0m\u001b[0;34m:\u001b[0m\u001b[0;34m\u001b[0m\u001b[0;34m\u001b[0m\u001b[0m\n\u001b[1;32m    375\u001b[0m             \u001b[0mguess\u001b[0m \u001b[0;34m=\u001b[0m \u001b[0;32mFalse\u001b[0m\u001b[0;34m\u001b[0m\u001b[0;34m\u001b[0m\u001b[0m\n",
      "\u001b[0;32m/usr/local/lib/python3.6/dist-packages/astropy/io/ascii/ui.py\u001b[0m in \u001b[0;36m_guess\u001b[0;34m(table, read_kwargs, format, fast_reader)\u001b[0m\n\u001b[1;32m    528\u001b[0m \u001b[0;34m\u001b[0m\u001b[0m\n\u001b[1;32m    529\u001b[0m             \u001b[0mreader\u001b[0m\u001b[0;34m.\u001b[0m\u001b[0mguessing\u001b[0m \u001b[0;34m=\u001b[0m \u001b[0;32mTrue\u001b[0m\u001b[0;34m\u001b[0m\u001b[0;34m\u001b[0m\u001b[0m\n\u001b[0;32m--> 530\u001b[0;31m             \u001b[0mdat\u001b[0m \u001b[0;34m=\u001b[0m \u001b[0mreader\u001b[0m\u001b[0;34m.\u001b[0m\u001b[0mread\u001b[0m\u001b[0;34m(\u001b[0m\u001b[0mtable\u001b[0m\u001b[0;34m)\u001b[0m\u001b[0;34m\u001b[0m\u001b[0;34m\u001b[0m\u001b[0m\n\u001b[0m\u001b[1;32m    531\u001b[0m             _read_trace.append({'kwargs': copy.deepcopy(guess_kwargs),\n\u001b[1;32m    532\u001b[0m                                 \u001b[0;34m'Reader'\u001b[0m\u001b[0;34m:\u001b[0m \u001b[0mreader\u001b[0m\u001b[0;34m.\u001b[0m\u001b[0m__class__\u001b[0m\u001b[0;34m,\u001b[0m\u001b[0;34m\u001b[0m\u001b[0;34m\u001b[0m\u001b[0m\n",
      "\u001b[0;32m/usr/local/lib/python3.6/dist-packages/astropy/io/ascii/core.py\u001b[0m in \u001b[0;36mread\u001b[0;34m(self, table)\u001b[0m\n\u001b[1;32m   1152\u001b[0m \u001b[0;34m\u001b[0m\u001b[0m\n\u001b[1;32m   1153\u001b[0m         \u001b[0;31m# Get a list of the lines (rows) in the table\u001b[0m\u001b[0;34m\u001b[0m\u001b[0;34m\u001b[0m\u001b[0;34m\u001b[0m\u001b[0m\n\u001b[0;32m-> 1154\u001b[0;31m         \u001b[0mself\u001b[0m\u001b[0;34m.\u001b[0m\u001b[0mlines\u001b[0m \u001b[0;34m=\u001b[0m \u001b[0mself\u001b[0m\u001b[0;34m.\u001b[0m\u001b[0minputter\u001b[0m\u001b[0;34m.\u001b[0m\u001b[0mget_lines\u001b[0m\u001b[0;34m(\u001b[0m\u001b[0mtable\u001b[0m\u001b[0;34m)\u001b[0m\u001b[0;34m\u001b[0m\u001b[0;34m\u001b[0m\u001b[0m\n\u001b[0m\u001b[1;32m   1155\u001b[0m \u001b[0;34m\u001b[0m\u001b[0m\n\u001b[1;32m   1156\u001b[0m         \u001b[0;31m# Set self.data.data_lines to a slice of lines contain the data rows\u001b[0m\u001b[0;34m\u001b[0m\u001b[0;34m\u001b[0m\u001b[0;34m\u001b[0m\u001b[0m\n",
      "\u001b[0;32m/usr/local/lib/python3.6/dist-packages/astropy/io/ascii/core.py\u001b[0m in \u001b[0;36mget_lines\u001b[0;34m(self, table)\u001b[0m\n\u001b[1;32m    301\u001b[0m                     ('\\n' not in table + '' and '\\r' not in table + '')):\n\u001b[1;32m    302\u001b[0m                 with get_readable_fileobj(table,\n\u001b[0;32m--> 303\u001b[0;31m                                           encoding=self.encoding) as fileobj:\n\u001b[0m\u001b[1;32m    304\u001b[0m                     \u001b[0mtable\u001b[0m \u001b[0;34m=\u001b[0m \u001b[0mfileobj\u001b[0m\u001b[0;34m.\u001b[0m\u001b[0mread\u001b[0m\u001b[0;34m(\u001b[0m\u001b[0;34m)\u001b[0m\u001b[0;34m\u001b[0m\u001b[0;34m\u001b[0m\u001b[0m\n\u001b[1;32m    305\u001b[0m             \u001b[0mlines\u001b[0m \u001b[0;34m=\u001b[0m \u001b[0mtable\u001b[0m\u001b[0;34m.\u001b[0m\u001b[0msplitlines\u001b[0m\u001b[0;34m(\u001b[0m\u001b[0;34m)\u001b[0m\u001b[0;34m\u001b[0m\u001b[0;34m\u001b[0m\u001b[0m\n",
      "\u001b[0;32m/usr/lib/python3.6/contextlib.py\u001b[0m in \u001b[0;36m__enter__\u001b[0;34m(self)\u001b[0m\n\u001b[1;32m     79\u001b[0m     \u001b[0;32mdef\u001b[0m \u001b[0m__enter__\u001b[0m\u001b[0;34m(\u001b[0m\u001b[0mself\u001b[0m\u001b[0;34m)\u001b[0m\u001b[0;34m:\u001b[0m\u001b[0;34m\u001b[0m\u001b[0;34m\u001b[0m\u001b[0m\n\u001b[1;32m     80\u001b[0m         \u001b[0;32mtry\u001b[0m\u001b[0;34m:\u001b[0m\u001b[0;34m\u001b[0m\u001b[0;34m\u001b[0m\u001b[0m\n\u001b[0;32m---> 81\u001b[0;31m             \u001b[0;32mreturn\u001b[0m \u001b[0mnext\u001b[0m\u001b[0;34m(\u001b[0m\u001b[0mself\u001b[0m\u001b[0;34m.\u001b[0m\u001b[0mgen\u001b[0m\u001b[0;34m)\u001b[0m\u001b[0;34m\u001b[0m\u001b[0;34m\u001b[0m\u001b[0m\n\u001b[0m\u001b[1;32m     82\u001b[0m         \u001b[0;32mexcept\u001b[0m \u001b[0mStopIteration\u001b[0m\u001b[0;34m:\u001b[0m\u001b[0;34m\u001b[0m\u001b[0;34m\u001b[0m\u001b[0m\n\u001b[1;32m     83\u001b[0m             \u001b[0;32mraise\u001b[0m \u001b[0mRuntimeError\u001b[0m\u001b[0;34m(\u001b[0m\u001b[0;34m\"generator didn't yield\"\u001b[0m\u001b[0;34m)\u001b[0m \u001b[0;32mfrom\u001b[0m \u001b[0;32mNone\u001b[0m\u001b[0;34m\u001b[0m\u001b[0;34m\u001b[0m\u001b[0m\n",
      "\u001b[0;32m/usr/local/lib/python3.6/dist-packages/astropy/utils/data.py\u001b[0m in \u001b[0;36mget_readable_fileobj\u001b[0;34m(name_or_obj, encoding, cache, show_progress, remote_timeout)\u001b[0m\n\u001b[1;32m    191\u001b[0m                 \u001b[0mname_or_obj\u001b[0m\u001b[0;34m,\u001b[0m \u001b[0mcache\u001b[0m\u001b[0;34m=\u001b[0m\u001b[0mcache\u001b[0m\u001b[0;34m,\u001b[0m \u001b[0mshow_progress\u001b[0m\u001b[0;34m=\u001b[0m\u001b[0mshow_progress\u001b[0m\u001b[0;34m,\u001b[0m\u001b[0;34m\u001b[0m\u001b[0;34m\u001b[0m\u001b[0m\n\u001b[1;32m    192\u001b[0m                 timeout=remote_timeout)\n\u001b[0;32m--> 193\u001b[0;31m         \u001b[0mfileobj\u001b[0m \u001b[0;34m=\u001b[0m \u001b[0mio\u001b[0m\u001b[0;34m.\u001b[0m\u001b[0mFileIO\u001b[0m\u001b[0;34m(\u001b[0m\u001b[0mname_or_obj\u001b[0m\u001b[0;34m,\u001b[0m \u001b[0;34m'r'\u001b[0m\u001b[0;34m)\u001b[0m\u001b[0;34m\u001b[0m\u001b[0;34m\u001b[0m\u001b[0m\n\u001b[0m\u001b[1;32m    194\u001b[0m         \u001b[0;32mif\u001b[0m \u001b[0mis_url\u001b[0m \u001b[0;32mand\u001b[0m \u001b[0;32mnot\u001b[0m \u001b[0mcache\u001b[0m\u001b[0;34m:\u001b[0m\u001b[0;34m\u001b[0m\u001b[0;34m\u001b[0m\u001b[0m\n\u001b[1;32m    195\u001b[0m             \u001b[0mdelete_fds\u001b[0m\u001b[0;34m.\u001b[0m\u001b[0mappend\u001b[0m\u001b[0;34m(\u001b[0m\u001b[0mfileobj\u001b[0m\u001b[0;34m)\u001b[0m\u001b[0;34m\u001b[0m\u001b[0;34m\u001b[0m\u001b[0m\n",
      "\u001b[0;31mFileNotFoundError\u001b[0m: [Errno 2] No such file or directory: '../../Data/HIdata/a100.180315.MWF.csv'"
     ]
    }
   ],
   "source": [
    "import numpy as np\n",
    "import matplotlib.pyplot as plt\n",
    "import healpy as hp\n",
    "from astropy.io import fits\n",
    "from scipy.stats import binned_statistic, powerlaw\n",
    "from scipy.interpolate import interp1d\n",
    "import kmeans_radec\n",
    "from astropy.io import ascii\n",
    "import Setup as p\n",
    "\n",
    "import SelectionFunc"
   ]
  },
  {
   "cell_type": "code",
   "execution_count": null,
   "metadata": {
    "ExecuteTime": {
     "end_time": "2019-09-08T20:27:22.126898Z",
     "start_time": "2019-09-08T20:27:19.518Z"
    }
   },
   "outputs": [],
   "source": [
    "data = fits.open(\"../../BAM/a100springfull.fits\")[1].data\n",
    "\n",
    "# Unpack all the values\n",
    "RA = data['RAdeg_HI']\n",
    "DEC = data['DECdeg_HI']\n",
    "dist = data['Dist']\n",
    "logMH = data['logMH']\n",
    "MS = data['SERSIC_MASS']\n",
    "apmag = data['petroMag_r']\n",
    "\n",
    "# Take only the ones with finite SM\n",
    "IDS = np.where(np.isfinite(MS))\n",
    "RA = RA[IDS]\n",
    "DEC = DEC[IDS]\n",
    "dist = dist[IDS]\n",
    "logMH = logMH[IDS]\n",
    "logMS = np.log10(MS[IDS])\n",
    "apmag = apmag[IDS]\n",
    "\n",
    "logMB = np.log10(10**logMS+1.4*10**logMH)"
   ]
  },
  {
   "cell_type": "code",
   "execution_count": null,
   "metadata": {
    "ExecuteTime": {
     "end_time": "2019-09-08T20:27:22.128098Z",
     "start_time": "2019-09-08T20:27:19.966Z"
    }
   },
   "outputs": [],
   "source": [
    "t = np.linspace(logMB.min(), logMB.max(),1000)\n",
    "\n",
    "def func(masscut):\n",
    "    return np.where(logMB>masscut)[0].size/logMB.size\n",
    "\n",
    "y = interp1d(np.array([func(i) for i in t]), t)\n",
    "\n",
    "perc_list = [0.90, 0.7, 0.50]\n",
    "cuts = [float(y(i)) for i in perc_list]\n",
    "\n",
    "cuts_def = {perc_list[0] : cuts[0],\n",
    "           perc_list[1] : cuts[1],\n",
    "           perc_list[2] : cuts[2]}\n",
    "\n",
    "p.dump_pickle(cuts_def, \"../../Data/BMmatching/logMBcuts_def.p\")\n",
    "print(cuts)\n",
    "\n",
    "\n",
    "\n",
    "t = np.linspace(logMB.min(), logMB.max(),1000)\n",
    "plt.figure(dpi=120, figsize=(9, 3))\n",
    "\n",
    "plt.subplot(121)\n",
    "plt.plot(t, [func(i) for i in t])\n",
    "for c in cuts:\n",
    "    plt.axvline(c, c='black')\n",
    "    print(func(c)*logMB.size)\n",
    "\n",
    "\n",
    "plt.subplot(122)\n",
    "plt.hist(logMB, bins='auto')\n",
    "plt.title(\"Cuts that include 90, 70 and 50% of gals.\")\n",
    "for c in cuts:\n",
    "    plt.axvline(c, c='black')\n",
    "\n",
    "plt.tight_layout()\n",
    "plt.show()\n",
    "\n"
   ]
  },
  {
   "cell_type": "code",
   "execution_count": null,
   "metadata": {
    "ExecuteTime": {
     "end_time": "2019-09-08T20:27:22.129166Z",
     "start_time": "2019-09-08T20:27:21.159Z"
    }
   },
   "outputs": [],
   "source": [
    "N = 20\n",
    "stat, bin_edges, __ = binned_statistic(logMB, logMH, bins=N, statistic=np.mean)\n",
    "statstd, bin_edges, __ = binned_statistic(logMB, logMH, bins=N, statistic=np.std)\n",
    "\n",
    "bin_centers = p.bin_centers(bin_edges)\n",
    "\n",
    "lowbound = stat-2*statstd\n",
    "\n",
    "MB2MHI_func = interp1d(bin_centers, lowbound)\n",
    "\n",
    "\n",
    "\n",
    "plt.figure(dpi=120)\n",
    "plt.scatter(logMB, logMH, s=0.05)\n",
    "plt.plot(bin_centers, stat, c='red', marker='o')\n",
    "plt.plot(bin_centers, lowbound, c='violet', marker='o')\n",
    "plt.xlabel(r\"$\\log_{10}M_B/M_\\odot$\")\n",
    "plt.ylabel(r\"$\\log_{10}M_H /M_\\odot$\")\n",
    "plt.show()"
   ]
  },
  {
   "cell_type": "code",
   "execution_count": null,
   "metadata": {
    "ExecuteTime": {
     "end_time": "2019-09-08T20:27:22.130156Z",
     "start_time": "2019-09-08T20:27:21.423Z"
    }
   },
   "outputs": [],
   "source": [
    "def func_absmag(appmag, d):\n",
    "    # Distance in Mpc\n",
    "    return appmag-25-5*np.log10(d)\n",
    "\n",
    "absmag = list()\n",
    "for i, j in zip(apmag, dist):\n",
    "    absmag.append(func_absmag(i, j))\n",
    "absmag = np.array(absmag)"
   ]
  },
  {
   "cell_type": "code",
   "execution_count": 2,
   "metadata": {
    "ExecuteTime": {
     "end_time": "2019-09-08T20:27:23.111114Z",
     "start_time": "2019-09-08T20:27:23.100157Z"
    }
   },
   "outputs": [
    {
     "ename": "NameError",
     "evalue": "name 'logMB' is not defined",
     "output_type": "error",
     "traceback": [
      "\u001b[0;31m---------------------------------------------------------------------------\u001b[0m",
      "\u001b[0;31mNameError\u001b[0m                                 Traceback (most recent call last)",
      "\u001b[0;32m<ipython-input-2-0b40c7d14f67>\u001b[0m in \u001b[0;36m<module>\u001b[0;34m()\u001b[0m\n\u001b[0;32m----> 1\u001b[0;31m \u001b[0mstat\u001b[0m\u001b[0;34m,\u001b[0m \u001b[0mbin_edges\u001b[0m\u001b[0;34m,\u001b[0m \u001b[0m__\u001b[0m \u001b[0;34m=\u001b[0m \u001b[0mbinned_statistic\u001b[0m\u001b[0;34m(\u001b[0m\u001b[0mlogMB\u001b[0m\u001b[0;34m,\u001b[0m \u001b[0mlogMS\u001b[0m\u001b[0;34m,\u001b[0m \u001b[0mbins\u001b[0m\u001b[0;34m=\u001b[0m\u001b[0;36m15\u001b[0m\u001b[0;34m)\u001b[0m\u001b[0;34m\u001b[0m\u001b[0;34m\u001b[0m\u001b[0m\n\u001b[0m\u001b[1;32m      2\u001b[0m \u001b[0mstatstd\u001b[0m\u001b[0;34m,\u001b[0m \u001b[0mbin_edges\u001b[0m\u001b[0;34m,\u001b[0m \u001b[0m__\u001b[0m \u001b[0;34m=\u001b[0m \u001b[0mbinned_statistic\u001b[0m\u001b[0;34m(\u001b[0m\u001b[0mlogMB\u001b[0m\u001b[0;34m,\u001b[0m \u001b[0mlogMS\u001b[0m\u001b[0;34m,\u001b[0m \u001b[0mbins\u001b[0m\u001b[0;34m=\u001b[0m\u001b[0;36m15\u001b[0m\u001b[0;34m,\u001b[0m \u001b[0mstatistic\u001b[0m\u001b[0;34m=\u001b[0m\u001b[0mnp\u001b[0m\u001b[0;34m.\u001b[0m\u001b[0mstd\u001b[0m\u001b[0;34m)\u001b[0m\u001b[0;34m\u001b[0m\u001b[0;34m\u001b[0m\u001b[0m\n\u001b[1;32m      3\u001b[0m \u001b[0mbin_centers\u001b[0m \u001b[0;34m=\u001b[0m \u001b[0mp\u001b[0m\u001b[0;34m.\u001b[0m\u001b[0mbin_centers\u001b[0m\u001b[0;34m(\u001b[0m\u001b[0mbin_edges\u001b[0m\u001b[0;34m)\u001b[0m\u001b[0;34m\u001b[0m\u001b[0;34m\u001b[0m\u001b[0m\n\u001b[1;32m      4\u001b[0m \u001b[0;34m\u001b[0m\u001b[0m\n\u001b[1;32m      5\u001b[0m \u001b[0mlowerbound\u001b[0m \u001b[0;34m=\u001b[0m \u001b[0mstat\u001b[0m\u001b[0;34m-\u001b[0m\u001b[0;36m2\u001b[0m\u001b[0;34m*\u001b[0m\u001b[0mstatstd\u001b[0m\u001b[0;34m\u001b[0m\u001b[0;34m\u001b[0m\u001b[0m\n",
      "\u001b[0;31mNameError\u001b[0m: name 'logMB' is not defined"
     ]
    }
   ],
   "source": [
    "stat, bin_edges, __ = binned_statistic(logMB, logMS, bins=15)\n",
    "statstd, bin_edges, __ = binned_statistic(logMB, logMS, bins=15, statistic=np.std)\n",
    "bin_centers = p.bin_centers(bin_edges)\n",
    "\n",
    "lowerbound = stat-2*statstd\n",
    "\n",
    "MB2MS_func = interp1d(bin_centers, stat)\n",
    "# MB2MS_func2 = interp1d(bin_centers, stat)\n",
    "\n",
    "plt.figure(dpi=120)\n",
    "plt.scatter(logMB, logMS, s=0.05)\n",
    "plt.plot(bin_centers, stat, c='red', marker='o')\n",
    "plt.plot(bin_centers, lowerbound, c='violet', marker='o')\n",
    "plt.xlabel(r\"$\\log_{10}M_B/M_\\odot$\")\n",
    "plt.ylabel(r\"$\\log_{10}M_*/M_\\odot$\")\n",
    "plt.show()"
   ]
  },
  {
   "cell_type": "code",
   "execution_count": null,
   "metadata": {
    "ExecuteTime": {
     "end_time": "2019-08-29T14:05:29.640502Z",
     "start_time": "2019-08-29T14:05:29.459376Z"
    },
    "scrolled": false
   },
   "outputs": [],
   "source": [
    "stat, bin_edges, __ = binned_statistic(logMS, absmag, bins=15)\n",
    "statstd, bin_edges, __ = binned_statistic(logMS, absmag, bins=15, statistic=np.std)\n",
    "bin_centers = p.bin_centers(bin_edges)\n",
    "\n",
    "upperbound = stat+2*statstd\n",
    "\n",
    "MS2absmag_func = interp1d(bin_centers, upperbound)\n",
    "\n",
    "plt.figure(dpi=120)\n",
    "plt.scatter(logMS, absmag, s=0.05)\n",
    "plt.plot(bin_centers, stat, c='red', marker='o')\n",
    "plt.plot(bin_centers, upperbound, c='violet', marker='o')\n",
    "plt.xlabel(r\"$\\log_{10}M_*/M_\\odot$\")\n",
    "plt.ylabel(r\"$M_r$\")\n",
    "plt.show()"
   ]
  },
  {
   "cell_type": "code",
   "execution_count": null,
   "metadata": {
    "ExecuteTime": {
     "end_time": "2019-08-29T14:05:38.568985Z",
     "start_time": "2019-08-29T14:05:38.116320Z"
    }
   },
   "outputs": [],
   "source": [
    "# Get pixel coverage for the random catalog\n",
    "nside=25\n",
    "hpmap = np.zeros(hp.nside2npix(nside))\n",
    "active_pixs = list()\n",
    "for r, d in zip(np.deg2rad(RA), np.deg2rad(DEC)):\n",
    "    pix = hp.ang2pix(nside, np.pi/2-d, r)\n",
    "    hpmap[pix] = 1\n",
    "    active_pixs.append(pix)\n",
    "    \n",
    "hp.mollview(hpmap, rot=180, cbar=False, title='')\n",
    "hp.projscatter(np.pi/2-np.deg2rad(DEC), np.deg2rad(RA), s=0.05, c='red')\n",
    "\n",
    "active_pixs = np.unique(np.array(active_pixs))"
   ]
  },
  {
   "cell_type": "code",
   "execution_count": null,
   "metadata": {
    "ExecuteTime": {
     "end_time": "2019-08-29T14:29:19.081487Z",
     "start_time": "2019-08-29T14:29:15.018201Z"
    },
    "scrolled": false
   },
   "outputs": [],
   "source": [
    "num = 2\n",
    "logMBlim = cuts[num]\n",
    "perc = perc_list[num]\n",
    "print(\"logMBlim\", logMBlim)\n",
    "logMHlim = MB2MHI_func(logMBlim)\n",
    "logMSlim = MB2MS_func(logMBlim)\n",
    "absmaglim = MS2absmag_func(logMSlim)\n",
    "print(\"logMHIlim\", logMHlim, \"logMSlim\", logMSlim,\"absmaglim\", absmaglim)\n",
    "\n",
    "\n",
    "dist_arr = np.linspace(0.1, dist.max(), 1000)\n",
    "\n",
    "y1 = SelectionFunc.survival_func_HI(dist_arr, logMHlim, 151)(dist_arr)\n",
    "y2coarse, y2smooth, y2func = SelectionFunc.survival_rate(dist_arr, logMHlim, logMH.max(), 451, 3)\n",
    "y2 = y2func(dist_arr)\n",
    "y3 = SelectionFunc.survival_func_SM(dist_arr, absmaglim)(dist_arr)\n",
    "\n",
    "y = y1*y2*y3\n",
    "surv_func = interp1d(dist_arr, y)\n",
    "\n",
    "\n",
    "plt.figure(dpi=120, figsize=(10,3.5))\n",
    "\n",
    "plt.subplot(121)\n",
    "plt.plot(dist_arr, y3, label=r\"$\\mathrm{MS}$\")\n",
    "plt.plot(dist_arr, y1, label=r\"$\\mathrm{HI}$\")\n",
    "plt.plot(dist_arr, y2, label=r\"$\\mathrm{Fail.}$\")\n",
    "plt.plot(dist_arr, y, label=r\"$\\mathrm{HI}\\times\\mathrm{MS}\\times \\mathrm{Fail.}$\")\n",
    "plt.ylabel(r\"$\\varphi(d)$\")\n",
    "plt.xlabel(r\"$\\mathrm{Distance}/\\mathrm{Mpc}$\")\n",
    "plt.legend()\n",
    "\n",
    "plt.subplot(122)\n",
    "plt.plot(dist_arr, y2coarse)\n",
    "plt.plot(dist_arr, y2smooth)\n",
    "\n",
    "plt.show()\n"
   ]
  },
  {
   "cell_type": "code",
   "execution_count": null,
   "metadata": {
    "ExecuteTime": {
     "end_time": "2019-08-29T14:30:25.304077Z",
     "start_time": "2019-08-29T14:29:19.083049Z"
    },
    "scrolled": false
   },
   "outputs": [],
   "source": [
    "# Generate a random catalog\n",
    "Nrands = 5e6\n",
    "Nrands_target = int(Nrands/0.75)\n",
    "RAmin, RAmax = np.deg2rad(RA.min()), np.deg2rad(RA.max())\n",
    "Pmin = (np.sin(np.deg2rad(DEC.min()))+1)/2\n",
    "Pmax = (np.sin(np.deg2rad(DEC.max()))+1)/2\n",
    "distmin, distmax = dist.min(), dist.max()\n",
    "\n",
    "randRA = np.random.uniform(RAmin, RAmax, Nrands_target)\n",
    "randDEC = np.arcsin(2*np.random.uniform(Pmin, Pmax, size=Nrands_target)-1)\n",
    "randdist = powerlaw.rvs(a=3, loc=distmin, scale=distmax-distmin, size=Nrands_target)\n",
    "\n",
    "# Eliminate galaxies in pixels not covered by the ALFALFA survey\n",
    "pixels = hp.ang2pix(nside, np.pi/2-randDEC, randRA)\n",
    "IDS = np.where(np.isin(pixels, active_pixs)==True)\n",
    "# Switch to degrees\n",
    "randRA= np.rad2deg(randRA[IDS])\n",
    "randDEC = np.rad2deg(randDEC[IDS])\n",
    "randdist = randdist[IDS]\n",
    "\n",
    "# Cluster the galaxies for jackknifing\n",
    "N = randRA.size\n",
    "Ncluster = 10000\n",
    "IDS = np.random.choice(np.arange(N), Ncluster, False)\n",
    "X = np.vstack([randRA[IDS], randDEC[IDS]]).T\n",
    "km = kmeans_radec.kmeans_sample(X, p.ncent, maxiter=250, tol=1.0e-5, verbose=0)\n",
    "\n",
    "X = np.vstack([randRA, randDEC]).T\n",
    "randLabels = km.find_nearest(X)\n",
    "\n",
    "hp.mollview(np.zeros(12), rot=180, title='', cbar=False)\n",
    "for label in np.unique(km.labels):\n",
    "    IDSlab = np.where(km.labels==label)\n",
    "    hp.projscatter(np.pi/2-np.deg2rad(randDEC[IDS][IDSlab]), np.deg2rad(randRA[IDS][IDSlab]), s=0.5)\n",
    "    \n",
    "# Apply selection effects to the rand.\n",
    "N = randdist.size\n",
    "print(N)\n",
    "\n",
    "prob_surv = surv_func(randdist)\n",
    "# Don't forget RFI..\n",
    "hvel = list()\n",
    "for r, d, distance in zip(np.deg2rad(randRA), np.deg2rad(randDEC), randdist):\n",
    "    hvel.append(SelectionFunc.heliovelocity([r, d, distance]))\n",
    "hvel = np.array(hvel)\n",
    "\n",
    "prob_rfi = SelectionFunc.survival_func_rfi(hvel)\n",
    "# prob_rfi=1\n",
    "\n",
    "prob_arr = prob_surv*prob_rfi\n",
    "rand_arr = np.random.uniform(0, 1, N)\n",
    "\n",
    "IDS = np.where((prob_arr-rand_arr) > 0)\n",
    "randdist = randdist[IDS]\n",
    "randRA = randRA[IDS]\n",
    "randDEC = randDEC[IDS]\n",
    "randLabels = randLabels[IDS]\n",
    "print(randdist.size)"
   ]
  },
  {
   "cell_type": "code",
   "execution_count": null,
   "metadata": {
    "ExecuteTime": {
     "end_time": "2019-08-29T14:30:25.638634Z",
     "start_time": "2019-08-29T14:30:25.306227Z"
    }
   },
   "outputs": [],
   "source": [
    "MFWascii = ascii.read(\"../../Data/HIdata/a100.180315.MWF.csv\")\n",
    "MFW = np.zeros(shape=(25, 18))\n",
    "for i in range(25):\n",
    "    for j in range(18):\n",
    "        MFW[i, j] = MFWascii[i][j]\n",
    "\n",
    "massbins = [6.0, 6.2, 6.4, 6.6, 6.8, 7.0, 7.2, 7.4, 7.6, 7.8, 8.0, 8.2,\n",
    "            8.4, 8.6, 8.8, 9.0, 9.2, 9.4, 9.6, 9.8, 10.0, 10.2, 10.4, 10.6, 10.8, 11.0]\n",
    "w50bins = [1.2, 1.3, 1.4, 1.5, 1.6, 1.7, 1.8, 1.9, 2.0, 2.1, 2.2, 2.3, 2.4, 2.5, 2.6, 2.7, 2.8, 2.9, 3.0]\n",
    "\n",
    "number_density = 0\n",
    "mlow_ind = np.abs(logMHlim-np.array(massbins)).argmin()\n",
    "\n",
    "for i in range(len(w50bins)-1):\n",
    "    dw50 = w50bins[i+1]-w50bins[i]\n",
    "    w50 = (w50bins[i+1]+w50bins[i])/2\n",
    "\n",
    "    for j in range(mlow_ind, len(massbins)-1):\n",
    "        dm = massbins[j+1]-massbins[j]\n",
    "        number_density += MFW[j, i]*dm*dw50\n",
    "\n",
    "print(\"Number density is {}\".format(number_density))\n",
    "\n",
    "J3 = 2962\n",
    "\n",
    "def get_weights(dist):\n",
    "    return 1/(1+4*np.pi*number_density*J3*surv_func(dist))\n",
    "\n",
    "plt.figure(dpi=120, figsize=(9,3))\n",
    "\n",
    "plt.subplot(121)\n",
    "plt.plot(dist_arr, get_weights(dist_arr))\n",
    "\n",
    "plt.subplot(122)\n",
    "plt.hist(get_weights(dist), bins='auto')\n",
    "\n",
    "plt.show()"
   ]
  },
  {
   "cell_type": "code",
   "execution_count": null,
   "metadata": {
    "ExecuteTime": {
     "end_time": "2019-08-29T14:30:25.904449Z",
     "start_time": "2019-08-29T14:30:25.640446Z"
    }
   },
   "outputs": [],
   "source": [
    "# Plot how do the histograms differ\n",
    "IDS = np.where(logMB>logMBlim)\n",
    "print(\"N. gal above this mass cut\", IDS[0].size)\n",
    "\n",
    "\n",
    "# Downsample randcat to the same size as catalog\n",
    "IDS2 = np.random.choice(np.arange(randdist.size), dist[IDS].size, replace=False)\n",
    "\n",
    "# plt.figure(figsize=(figwidth, figheight) ,dpi=240)\n",
    "plt.figure(dpi=120)\n",
    "\n",
    "plt.hist(dist[IDS], bins='auto', label=\"Obs. sample\")\n",
    "plt.hist(randdist[IDS2], bins='auto', label=\"Rand. sample\", alpha=0.5)\n",
    "plt.ylabel(r\"Counts\")\n",
    "plt.xlabel(r\"Distance$/\\mathrm{Mpc}$\")\n",
    "plt.xlim(dist[IDS].min(), dist[IDS].max())\n",
    "plt.legend()\n",
    "plt.tight_layout()\n",
    "plt.show()"
   ]
  },
  {
   "cell_type": "code",
   "execution_count": null,
   "metadata": {
    "ExecuteTime": {
     "end_time": "2019-08-29T14:30:29.549607Z",
     "start_time": "2019-08-29T14:30:25.905957Z"
    },
    "scrolled": false
   },
   "outputs": [],
   "source": [
    "N = randdist.size\n",
    "random_catalog = np.zeros(N, dtype={'names':('ra', 'dec', 'dist', 'label', 'weights'),\n",
    "                                'formats':('float64', 'float64', 'float64', 'int64', 'float64')})\n",
    "random_catalog['ra'] = randRA\n",
    "random_catalog['dec'] = randDEC\n",
    "random_catalog['dist'] = randdist\n",
    "random_catalog['label'] = randLabels\n",
    "# random_catalog['weights'] = np.ones_like(randRA)\n",
    "random_catalog['weights'] = get_weights(randdist)\n",
    "\n",
    "np.save(\"../../Data/BMmatching/CFrandcatBM_{}_.npy\".format(perc), random_catalog)\n",
    "print(\"We have {} galaxies in random.\".format(N))\n",
    "\n",
    "IDS = np.where(logMB>logMBlim)\n",
    "N = dist[IDS].size\n",
    "X = np.vstack([RA[IDS], DEC[IDS]]).T\n",
    "\n",
    "cut_catalog = np.zeros(N, dtype={'names':('ra', 'dec', 'dist', 'weights', 'label'),\n",
    "                                'formats':('float64', 'float64', 'float64', 'float64', 'int64')})\n",
    "cut_catalog['ra'] = RA[IDS]\n",
    "cut_catalog['dec'] = DEC[IDS]\n",
    "cut_catalog['dist'] = dist[IDS]\n",
    "cut_catalog['weights'] = get_weights(dist[IDS])\n",
    "cut_catalog['label'] = km.find_nearest(X)\n",
    "# cut_catalog['weights'] = np.ones_like(RAcut)\n",
    "\n",
    "np.save(\"../../Data/BMmatching/CFcatBM_{}_.npy\".format(perc), cut_catalog)\n",
    "print(\"We have {} galaxies in observation.\".format(N))\n",
    "\n",
    "hp.mollview(np.zeros(12), rot=180)\n",
    "for label in np.unique(km.labels):\n",
    "    IDSlab = np.where(label==cut_catalog['label'])\n",
    "    hp.projscatter(np.pi/2-np.deg2rad(DEC[IDS])[IDSlab], np.deg2rad(RA[IDS])[IDSlab], s=0.5)"
   ]
  },
  {
   "cell_type": "code",
   "execution_count": null,
   "metadata": {
    "ExecuteTime": {
     "end_time": "2019-08-29T15:03:26.962549Z",
     "start_time": "2019-08-29T15:03:26.827281Z"
    }
   },
   "outputs": [],
   "source": [
    "!ls ../../Data/BMmatching/"
   ]
  },
  {
   "cell_type": "code",
   "execution_count": null,
   "metadata": {},
   "outputs": [],
   "source": []
  }
 ],
 "metadata": {
  "kernelspec": {
   "display_name": "Python 3",
   "language": "python",
   "name": "python3"
  },
  "language_info": {
   "codemirror_mode": {
    "name": "ipython",
    "version": 3
   },
   "file_extension": ".py",
   "mimetype": "text/x-python",
   "name": "python",
   "nbconvert_exporter": "python",
   "pygments_lexer": "ipython3",
   "version": "3.6.8"
  }
 },
 "nbformat": 4,
 "nbformat_minor": 2
}
