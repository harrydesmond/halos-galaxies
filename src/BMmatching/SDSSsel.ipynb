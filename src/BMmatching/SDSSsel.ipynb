{
 "cells": [
  {
   "cell_type": "code",
   "execution_count": 2,
   "metadata": {
    "ExecuteTime": {
     "end_time": "2019-08-09T09:31:41.583712Z",
     "start_time": "2019-08-09T09:31:40.837236Z"
    }
   },
   "outputs": [],
   "source": [
    "import numpy as np\n",
    "import matplotlib.pyplot as plt\n",
    "from scipy.interpolate import interp1d\n",
    "from scipy.integrate import quad\n",
    "from scipy.optimize import curve_fit\n",
    "import Setup as p\n",
    "\n",
    "from astropy.io import fits"
   ]
  },
  {
   "cell_type": "code",
   "execution_count": 3,
   "metadata": {
    "ExecuteTime": {
     "end_time": "2019-08-09T09:31:41.824080Z",
     "start_time": "2019-08-09T09:31:41.586099Z"
    }
   },
   "outputs": [],
   "source": [
    "# Load the data\n",
    "data = np.loadtxt(\"../../Data/SMmatching/LF_Ser.dat\")\n",
    "cat = fits.open(\"../../BAM/Old/nsa_v1.fits\")[1].data"
   ]
  },
  {
   "cell_type": "code",
   "execution_count": 4,
   "metadata": {
    "ExecuteTime": {
     "end_time": "2019-08-09T09:32:07.683348Z",
     "start_time": "2019-08-09T09:31:41.825991Z"
    },
    "scrolled": true
   },
   "outputs": [
    {
     "name": "stdout",
     "output_type": "stream",
     "text": [
      "460930\n",
      "3587\n"
     ]
    },
    {
     "name": "stderr",
     "output_type": "stream",
     "text": [
      "/mnt/zfsusers/rstiskalek/.local/lib/python3.6/site-packages/ipykernel_launcher.py:8: RuntimeWarning: divide by zero encountered in log10\n",
      "  \n"
     ]
    }
   ],
   "source": [
    "# Our chosen definition of little h\n",
    "h = 0.688\n",
    "\n",
    "# Take the r-band absolute magnitude and eliminate galaxies with no stellar mass estimate\n",
    "absmag = cat['SERSIC_ABSMAG'][:, 4]-5*np.log10(h)\n",
    "mass = cat['SERSIC_MASS']\n",
    "IDS = np.where(np.isfinite(mass))\n",
    "logmass = np.log10(mass[IDS])-2*np.log10(h)\n",
    "absmag = absmag[IDS]\n",
    "\n",
    "#Some arbitrary cut on stellar mass\n",
    "IDS = np.where(logmass > 10.2)\n",
    "logmass = logmass[IDS]\n",
    "absmag = absmag[IDS]\n",
    "print(absmag.size)\n",
    "\n",
    "\n",
    "IDS = np.where(np.logical_and(absmag>-23, absmag<-18.4))\n",
    "print(absmag.size-IDS[0].size)\n",
    "logmass = logmass[IDS]\n",
    "absmag = absmag[IDS]\n"
   ]
  },
  {
   "cell_type": "code",
   "execution_count": 5,
   "metadata": {
    "ExecuteTime": {
     "end_time": "2019-08-09T09:32:07.689653Z",
     "start_time": "2019-08-09T09:32:07.685285Z"
    }
   },
   "outputs": [
    {
     "data": {
      "text/plain": [
       "(-22.99888, -18.403124)"
      ]
     },
     "execution_count": 5,
     "metadata": {},
     "output_type": "execute_result"
    }
   ],
   "source": [
    "np.min(absmag), np.max(absmag)"
   ]
  },
  {
   "cell_type": "code",
   "execution_count": 6,
   "metadata": {
    "ExecuteTime": {
     "end_time": "2019-08-09T09:32:08.456767Z",
     "start_time": "2019-08-09T09:32:07.691107Z"
    },
    "scrolled": true
   },
   "outputs": [
    {
     "data": {
      "image/png": "[encoded data removed]",
      "text/plain": [
       "<matplotlib.figure.Figure at 0x7f73646e8198>"
      ]
     },
     "metadata": {
      "needs_background": "light"
     },
     "output_type": "display_data"
    }
   ],
   "source": [
    "plt.figure(dpi=120, figsize=(5, 3))\n",
    "plt.rcParams.update({'font.size': 8})\n",
    "plt.hist(absmag, bins='auto', log=False)\n",
    "plt.axvline(x=-23, c='red')\n",
    "plt.axvline(x=-18.4, c='red')\n",
    "plt.xlabel(r\"$M_r$\")\n",
    "plt.savefig(\"../../Plots/NSA_Mr_hist.png\", dpi=240)\n",
    "plt.show()"
   ]
  },
  {
   "cell_type": "code",
   "execution_count": 10,
   "metadata": {
    "ExecuteTime": {
     "end_time": "2019-08-09T09:32:44.711538Z",
     "start_time": "2019-08-09T09:32:44.707768Z"
    }
   },
   "outputs": [
    {
     "data": {
      "text/plain": [
       "array([  5.18800039e-07,   1.37720947e-06,   3.03389118e-06,\n",
       "         6.90239804e-06,   1.25025903e-05,   2.23357222e-05,\n",
       "         3.88150366e-05,   6.76082975e-05,   1.11429453e-04,\n",
       "         1.77418948e-04,   2.78612117e-04,   4.13999675e-04,\n",
       "         5.90201080e-04,   8.03526122e-04,   1.06905488e-03,\n",
       "         1.33045442e-03,   1.58124804e-03,   1.89670592e-03,\n",
       "         2.14783047e-03,   2.48885732e-03,   2.76057786e-03,\n",
       "         3.09741930e-03,   3.20626932e-03,   3.25836701e-03,\n",
       "         3.33426413e-03,   3.53997341e-03,   3.57272838e-03,\n",
       "         3.89941987e-03,   3.99024902e-03,   4.19758984e-03,\n",
       "         4.25598413e-03,   4.48745390e-03,   4.95450191e-03,\n",
       "         4.90907876e-03,   4.62381021e-03,   4.46683592e-03])"
      ]
     },
     "execution_count": 10,
     "metadata": {},
     "output_type": "execute_result"
    }
   ],
   "source": [
    "10**y"
   ]
  },
  {
   "cell_type": "code",
   "execution_count": 9,
   "metadata": {
    "ExecuteTime": {
     "end_time": "2019-08-09T09:32:35.550908Z",
     "start_time": "2019-08-09T09:32:35.452604Z"
    },
    "scrolled": false
   },
   "outputs": [
    {
     "data": {
      "image/png": "[encoded data removed]",
      "text/plain": [
       "<matplotlib.figure.Figure at 0x7f734b7595f8>"
      ]
     },
     "metadata": {
      "needs_background": "light"
     },
     "output_type": "display_data"
    }
   ],
   "source": [
    "x = data[:, 0]\n",
    "y = data[:, 1]\n",
    "t = np.linspace(x.min(), x.max())\n",
    "\n",
    "# Interpolate the galaxy luminosity function\n",
    "nlum = interp1d(x, y, kind='cubic', fill_value='extrapolate')\n",
    "\n",
    "plt.figure(dpi=120)\n",
    "plt.scatter(x,10**y, marker='o')\n",
    "# plt.plot(t, nlum(t), c='red')\n",
    "plt.axhline(0)\n",
    "plt.xlim(np.max(x)+0.5, np.min(x)-0.5)\n",
    "plt.show()"
   ]
  },
  {
   "cell_type": "code",
   "execution_count": 157,
   "metadata": {
    "ExecuteTime": {
     "end_time": "2019-08-08T22:55:27.862424Z",
     "start_time": "2019-08-08T22:55:27.854424Z"
    },
    "scrolled": true
   },
   "outputs": [
    {
     "name": "stderr",
     "output_type": "stream",
     "text": [
      "/mnt/zfsusers/rstiskalek/.local/lib/python3.6/site-packages/ipykernel_launcher.py:2: RuntimeWarning: overflow encountered in exp\n",
      "  \n",
      "/usr/local/lib/python3.6/dist-packages/scipy/optimize/minpack.py:787: OptimizeWarning: Covariance of the parameters could not be estimated\n",
      "  category=OptimizeWarning)\n"
     ]
    }
   ],
   "source": [
    "def bright_end_func(x, a, b, c, d):\n",
    "    return -np.exp(a*x+b) + c*x + d\n",
    "\n",
    "def faint_end_func(x, a, b):\n",
    "    return a*x+b\n",
    "\n",
    "bright_end_coef = curve_fit(bright_end_func, x[:27], y[:27], [[1, 0, 0, 0]], maxfev=100000)[0]\n",
    "s = slice(-5, None)\n",
    "faint_end_coef = curve_fit(faint_end_func, x[s], y[s], [0, 0], maxfev=100000)[0]"
   ]
  },
  {
   "cell_type": "code",
   "execution_count": 158,
   "metadata": {
    "ExecuteTime": {
     "end_time": "2019-08-08T22:55:28.498843Z",
     "start_time": "2019-08-08T22:55:28.319762Z"
    },
    "scrolled": true
   },
   "outputs": [
    {
     "data": {
      "image/png": "[encoded data removed]",
      "text/plain": [
       "<matplotlib.figure.Figure at 0x7fcf67c3b048>"
      ]
     },
     "metadata": {
      "needs_background": "light"
     },
     "output_type": "display_data"
    }
   ],
   "source": [
    "tbright = np.linspace(-24.7, -30, 250)\n",
    "a, b, c, d = bright_end_coef\n",
    "ybright = [bright_end_func(i, a, b, c, d) for i in tbright]\n",
    "\n",
    "tfaint=np.linspace(-17.6, -5, 100)\n",
    "a, b = faint_end_coef\n",
    "yfaint = [faint_end_func(i, a, b) for i in tfaint]\n",
    "\n",
    "y = nlum(t)\n",
    "\n",
    "plt.figure(figsize=(4,3), dpi=120)\n",
    "# plt.scatter(x,y, s=15, marker='x')\n",
    "plt.rcParams.update({'font.size': 8})\n",
    "plt.plot(t, y, c='red', label='Original data')\n",
    "plt.plot(tbright, ybright, c='violet', label='Bright end extrapolation')\n",
    "plt.plot(tfaint, yfaint, c='green', label='Faint end extrapolation')\n",
    "plt.xlim(-4, -31)\n",
    "plt.legend()\n",
    "plt.savefig(\"../../Plots/GalLumExtrapolate.png\", dpi=240)\n",
    "plt.show()"
   ]
  },
  {
   "cell_type": "code",
   "execution_count": 159,
   "metadata": {
    "ExecuteTime": {
     "end_time": "2019-08-08T22:55:28.714466Z",
     "start_time": "2019-08-08T22:55:28.709160Z"
    }
   },
   "outputs": [],
   "source": [
    "xx = np.hstack([tfaint, t, tbright])\n",
    "yy = np.hstack([yfaint, y, ybright])\n",
    "\n",
    "IDS = np.argsort(xx)\n",
    "xx = xx[IDS]\n",
    "yy = yy[IDS]\n",
    "\n",
    "IDS = np.unique(xx, return_index=True)[1]\n",
    "xx = xx[IDS]\n",
    "yy = yy[IDS]\n",
    "\n",
    "\n",
    "nlum = interp1d(xx, yy, kind='cubic')\n",
    "\n",
    "h = np.linspace(xx.min(), xx.max(), 10000)\n",
    "\n",
    "plt.figure(dpi=120)\n",
    "# plt.scatter(x,y, s=15, marker='x')\n",
    "plt.rcParams.update({'font.size': 8})\n",
    "plt.plot(h, nlum(h))\n",
    "plt.xlim(xx.max()+1, xx.min()-1)\n",
    "plt.show()"
   ]
  },
  {
   "cell_type": "code",
   "execution_count": 161,
   "metadata": {
    "ExecuteTime": {
     "end_time": "2019-08-08T22:55:29.773121Z",
     "start_time": "2019-08-08T22:55:29.770695Z"
    }
   },
   "outputs": [],
   "source": [
    "def absmag_dist(d):\n",
    "    # Distance in Mpc\n",
    "    appmag_lim = 17.6\n",
    "    return appmag_lim -25 -  5*np.log10(d)\n",
    "\n",
    "faintest_absmag = np.max(absmag)\n",
    "brightest_absmag = np.min(absmag)\n",
    "\n",
    "faintest_absmag, brightest_absmag\n",
    "\n",
    "faintest_absmag, absmag_dist(25)"
   ]
  },
  {
   "cell_type": "code",
   "execution_count": 164,
   "metadata": {
    "ExecuteTime": {
     "end_time": "2019-08-08T22:55:30.640516Z",
     "start_time": "2019-08-08T22:55:30.598768Z"
    }
   },
   "outputs": [],
   "source": [
    "norm = quad(nlum, faintest_absmag, brightest_absmag)[0]\n",
    "def surv_dist(d):\n",
    "    sdsslim = absmag_dist(d)\n",
    "    # If SDSS lim is less bright than faintest sdss object return 1.0\n",
    "    if sdsslim > faintest_absmag:\n",
    "        return 1.0\n",
    "    else:\n",
    "        integ = quad(nlum, sdsslim, brightest_absmag, limit=100, epsabs=1.49e-5)\n",
    "        if integ[1] > 1e-3:\n",
    "            print(\"Hmm, having problems\")\n",
    "    return integ[0]/norm\n",
    "\n"
   ]
  },
  {
   "cell_type": "code",
   "execution_count": 165,
   "metadata": {
    "ExecuteTime": {
     "end_time": "2019-08-08T22:55:31.202438Z",
     "start_time": "2019-08-08T22:55:30.768001Z"
    }
   },
   "outputs": [],
   "source": [
    "xx = np.linspace(1, 220, 100)\n",
    "yy = np.array([surv_dist(i) for i in xx])\n",
    "\n",
    "plt.figure(dpi=120, figsize=(5,3))\n",
    "plt.rcParams.update({'font.size': 8})\n",
    "plt.plot(xx, yy)\n",
    "plt.grid()\n",
    "plt.xlabel(r\"$d\\ [\\mathrm{Mpc}$]\")\n",
    "plt.ylabel(r\"$\\varphi(d)$\")\n",
    "plt.savefig(\"../../Plots/SDSSsurv.png\", dpi=240)\n",
    "plt.show()"
   ]
  },
  {
   "cell_type": "code",
   "execution_count": null,
   "metadata": {},
   "outputs": [],
   "source": []
  }
 ],
 "metadata": {
  "kernelspec": {
   "display_name": "Python 3",
   "language": "python",
   "name": "python3"
  },
  "language_info": {
   "codemirror_mode": {
    "name": "ipython",
    "version": 3
   },
   "file_extension": ".py",
   "mimetype": "text/x-python",
   "name": "python",
   "nbconvert_exporter": "python",
   "pygments_lexer": "ipython3",
   "version": "3.6.8"
  }
 },
 "nbformat": 4,
 "nbformat_minor": 2
}
