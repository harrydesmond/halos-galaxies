{
 "cells": [
  {
   "cell_type": "code",
   "execution_count": 19,
   "metadata": {
    "ExecuteTime": {
     "end_time": "2019-08-07T21:25:45.987613Z",
     "start_time": "2019-08-07T21:25:45.983273Z"
    }
   },
   "outputs": [],
   "source": [
    "import sys\n",
    "sys.path.insert(0, \"../Code\")\n",
    "import numpy as np\n",
    "import matplotlib.pyplot as plt\n",
    "import healpy as hp\n",
    "import scipy.constants\n",
    "import scipy.interpolate\n",
    "import scipy.stats\n",
    "import Setup as p\n",
    "from time import time\n",
    "\n",
    "from astropy.io import ascii"
   ]
  },
  {
   "cell_type": "code",
   "execution_count": 2,
   "metadata": {
    "ExecuteTime": {
     "end_time": "2019-08-07T21:24:16.364373Z",
     "start_time": "2019-08-07T21:24:16.360933Z"
    }
   },
   "outputs": [],
   "source": [
    "pixs_list = np.load(\"../../Data/gpixs_list.npy\")\n",
    "\n",
    "h = 0.7\n",
    "H0 = 100*h # km/s/Mpc"
   ]
  },
  {
   "cell_type": "code",
   "execution_count": 3,
   "metadata": {
    "ExecuteTime": {
     "end_time": "2019-08-07T21:24:17.842402Z",
     "start_time": "2019-08-07T21:24:17.837599Z"
    }
   },
   "outputs": [],
   "source": [
    "def get_galaxy(boxsize):\n",
    "    while True:\n",
    "        x, y, z = scipy.stats.uniform.rvs(loc=-1, scale=2, size=3)*boxsize\n",
    "        pix = hp.vec2pix(p.nside, x,y,z)\n",
    "\n",
    "        if pix in pixs_list:\n",
    "            sim_dist = np.sqrt(x**2+y**2+z**2)\n",
    "            if 1 < sim_dist < 210:\n",
    "                theta, phi = hp.vec2ang(np.array([x,y,z]))\n",
    "                return [np.pi/2-theta, phi, sim_dist]"
   ]
  },
  {
   "cell_type": "code",
   "execution_count": 4,
   "metadata": {
    "ExecuteTime": {
     "end_time": "2019-08-07T21:24:18.833706Z",
     "start_time": "2019-08-07T21:24:18.824716Z"
    }
   },
   "outputs": [],
   "source": [
    "phi_sun = (11+11/60+57/60**2)*np.pi/12\n",
    "theta_sun = np.pi/2-np.deg2rad(7.22)\n",
    "sun_vect = np.array([np.sin(theta_sun)*np.cos(phi_sun),\n",
    "                     np.sin(theta_sun)*np.sin(phi_sun),\n",
    "                     np.cos(theta_sun)])\n",
    "\n",
    "def heliovelocity(pars):\n",
    "    RAcmb, DECcmb, distcmb = pars\n",
    "    phi_cmb = float(RAcmb)\n",
    "    theta_cmb = np.pi/2-float(DECcmb)\n",
    "    cmb_vect = np.array([np.sin(theta_cmb)*np.cos(phi_cmb),\n",
    "                         np.sin(theta_cmb)*np.sin(phi_cmb),\n",
    "                         np.cos(theta_cmb)])\n",
    "\n",
    "    vcmb = H0*distcmb\n",
    "    vsun = 369\n",
    "    vel_helio = vcmb*cmb_vect-vsun*sun_vect\n",
    "    \n",
    "    vel_helio_r = np.sin(theta_cmb)*(vel_helio[0]*np.cos(phi_cmb)+vel_helio[1]*np.sin(phi_cmb))\\\n",
    "                    + vel_helio[2]*np.cos(theta_cmb)\n",
    "    \n",
    "    return vel_helio_r"
   ]
  },
  {
   "cell_type": "code",
   "execution_count": 46,
   "metadata": {
    "ExecuteTime": {
     "end_time": "2019-08-07T21:59:24.310391Z",
     "start_time": "2019-08-07T21:44:28.550422Z"
    }
   },
   "outputs": [
    {
     "name": "stdout",
     "output_type": "stream",
     "text": [
      "Done with 13333/200000. Did this bit in 58.56 seconds.\n",
      "Done with 26666/200000. Did this bit in 60.43 seconds.\n",
      "Done with 39999/200000. Did this bit in 58.65 seconds.\n",
      "Done with 53332/200000. Did this bit in 60.36 seconds.\n",
      "Done with 66665/200000. Did this bit in 59.97 seconds.\n",
      "Done with 79998/200000. Did this bit in 60.36 seconds.\n",
      "Done with 93331/200000. Did this bit in 59.85 seconds.\n",
      "Done with 106664/200000. Did this bit in 60.75 seconds.\n",
      "Done with 119997/200000. Did this bit in 59.48 seconds.\n",
      "Done with 133330/200000. Did this bit in 59.77 seconds.\n",
      "Done with 146663/200000. Did this bit in 59.57 seconds.\n",
      "Done with 159996/200000. Did this bit in 59.47 seconds.\n",
      "Done with 173329/200000. Did this bit in 60.04 seconds.\n",
      "Done with 186662/200000. Did this bit in 59.12 seconds.\n",
      "Done with 199995/200000. Did this bit in 59.34 seconds.\n",
      "Done with 199999/200000. Did this bit in 0.03 seconds.\n"
     ]
    }
   ],
   "source": [
    "N = 200000\n",
    "dists = np.zeros(N)\n",
    "heliovel = np.zeros(N)\n",
    "\n",
    "start = time()\n",
    "div = int(N/15)\n",
    "for i in range(N):\n",
    "    if i % div == 0 and i != 0:\n",
    "        print(\"Done with {}/{}. Did this bit in {:.2f} seconds.\".format(i, N, time()-start))\n",
    "        start = time()\n",
    "    pars = get_galaxy(400)\n",
    "    dists[i] = pars[2]\n",
    "    heliovel[i] = heliovelocity(pars)\n",
    "print(\"Done with {}/{}. Did this bit in {:.2f} seconds.\".format(i, N, time()-start))"
   ]
  },
  {
   "cell_type": "code",
   "execution_count": 39,
   "metadata": {
    "ExecuteTime": {
     "end_time": "2019-08-07T21:44:04.134598Z",
     "start_time": "2019-08-07T21:44:03.931214Z"
    }
   },
   "outputs": [
    {
     "data": {
      "image/png": "[encoded data removed]",
      "text/plain": [
       "<matplotlib.figure.Figure at 0x7fe506d21080>"
      ]
     },
     "metadata": {
      "needs_background": "light"
     },
     "output_type": "display_data"
    }
   ],
   "source": [
    "plt.figure(dpi=120)\n",
    "plt.hist(heliovel, bins='auto')\n",
    "plt.show()"
   ]
  },
  {
   "cell_type": "code",
   "execution_count": 40,
   "metadata": {
    "ExecuteTime": {
     "end_time": "2019-08-07T21:44:05.991124Z",
     "start_time": "2019-08-07T21:44:05.976612Z"
    }
   },
   "outputs": [],
   "source": [
    "data = ascii.read(\"../../Data/HIdata/rfi_frac.ascii\")\n",
    "\n",
    "rfi_hvel = np.array(data['Vhelio'])\n",
    "rfi = np.array(data['fRFI'])\n",
    "\n",
    "plt.figure(dpi=120, figsize=(8, 3))\n",
    "plt.plot(rfi_hvel, rfi)\n",
    "plt.axvline(np.min(heliovel), c='red')\n",
    "plt.axvline(np.max(heliovel), c='red')\n",
    "plt.show()"
   ]
  },
  {
   "cell_type": "markdown",
   "metadata": {},
   "source": [
    "Interpolate the RFI file"
   ]
  },
  {
   "cell_type": "code",
   "execution_count": 43,
   "metadata": {
    "ExecuteTime": {
     "end_time": "2019-08-07T21:44:08.805028Z",
     "start_time": "2019-08-07T21:44:08.802614Z"
    }
   },
   "outputs": [],
   "source": [
    "finterp = scipy.interpolate.interp1d(rfi_hvel, rfi)"
   ]
  },
  {
   "cell_type": "code",
   "execution_count": 44,
   "metadata": {
    "ExecuteTime": {
     "end_time": "2019-08-07T21:44:09.096821Z",
     "start_time": "2019-08-07T21:44:09.083623Z"
    }
   },
   "outputs": [],
   "source": [
    "probs = finterp(heliovel)\n",
    "arr = np.random.uniform(size=dists.size)\n",
    "\n",
    "IDS = np.where((arr-probs)<0)\n",
    "dists_new = dists[IDS]\n",
    "heliovel_new = heliovel[IDS]"
   ]
  },
  {
   "cell_type": "code",
   "execution_count": 45,
   "metadata": {
    "ExecuteTime": {
     "end_time": "2019-08-07T21:44:10.410726Z",
     "start_time": "2019-08-07T21:44:10.051196Z"
    }
   },
   "outputs": [
    {
     "data": {
      "image/png": "[encoded data removed]",
      "text/plain": [
       "<matplotlib.figure.Figure at 0x7fe506c0c7b8>"
      ]
     },
     "metadata": {
      "needs_background": "light"
     },
     "output_type": "display_data"
    }
   ],
   "source": [
    "plt.figure(dpi=120)\n",
    "plt.hist(dists, bins='auto', alpha=0.5)\n",
    "plt.hist(dists_new, bins='auto', alpha=0.2, color='red')\n",
    "plt.show()"
   ]
  },
  {
   "cell_type": "code",
   "execution_count": 47,
   "metadata": {
    "ExecuteTime": {
     "end_time": "2019-08-07T21:59:24.315972Z",
     "start_time": "2019-08-07T21:59:24.312445Z"
    }
   },
   "outputs": [
    {
     "data": {
      "text/plain": [
       "0.37217528611506401"
      ]
     },
     "execution_count": 47,
     "metadata": {},
     "output_type": "execute_result"
    }
   ],
   "source": [
    "np.log10(2.356)"
   ]
  },
  {
   "cell_type": "code",
   "execution_count": null,
   "metadata": {},
   "outputs": [],
   "source": []
  }
 ],
 "metadata": {
  "kernelspec": {
   "display_name": "Python 3",
   "language": "python",
   "name": "python3"
  },
  "language_info": {
   "codemirror_mode": {
    "name": "ipython",
    "version": 3
   },
   "file_extension": ".py",
   "mimetype": "text/x-python",
   "name": "python",
   "nbconvert_exporter": "python",
   "pygments_lexer": "ipython3",
   "version": "3.6.8"
  }
 },
 "nbformat": 4,
 "nbformat_minor": 2
}
