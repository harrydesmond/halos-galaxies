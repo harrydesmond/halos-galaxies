{
 "cells": [
  {
   "cell_type": "markdown",
   "metadata": {},
   "source": [
    "# Observed correlation function"
   ]
  },
  {
   "cell_type": "code",
   "execution_count": 1,
   "metadata": {
    "ExecuteTime": {
     "end_time": "2019-07-09T08:51:19.878319Z",
     "start_time": "2019-07-09T08:51:19.381748Z"
    }
   },
   "outputs": [],
   "source": [
    "import numpy as np\n",
    "import matplotlib.pyplot as plt\n",
    "import Corrfunc\n",
    "from Corrfunc.theory import wp\n",
    "from astropy.io import fits\n",
    "import astropy.coordinates as cd"
   ]
  },
  {
   "cell_type": "code",
   "execution_count": 3,
   "metadata": {
    "ExecuteTime": {
     "end_time": "2019-07-09T08:51:25.393567Z",
     "start_time": "2019-07-09T08:51:25.364687Z"
    }
   },
   "outputs": [],
   "source": [
    "survey = fits.open('../BAM/a100springfull.fits')\n",
    "end = 10359"
   ]
  },
  {
   "cell_type": "code",
   "execution_count": 4,
   "metadata": {
    "ExecuteTime": {
     "end_time": "2019-07-09T08:51:26.821620Z",
     "start_time": "2019-07-09T08:51:26.764806Z"
    },
    "scrolled": true
   },
   "outputs": [],
   "source": [
    "ra = np.deg2rad(survey[1].data['RAdeg_HI'][:end])\n",
    "dec = np.deg2rad(survey[1].data['DECdeg_HI'][:end])\n",
    "dist = survey[1].data['Dist'][:end]\n",
    "\n",
    "# Dec might be off from latitude by a factor of pi/2\n",
    "x, y, z = cd.spherical_to_cartesian(r=dist, lat=dec, lon=dec)\n",
    "\n",
    "# Ok if I have these, what is my box size?\n",
    "# Also, is pimax of 40 Mpc appropriate..hmmm\n",
    "# The corrfunc page is https://corrfunc.readthedocs.io/en/master/modules/converting_rp_pi_mocks.html\n",
    "# Could convert distance to CZ\n",
    "# Why do I need random catalogs? How is this stuff done"
   ]
  },
  {
   "cell_type": "code",
   "execution_count": 6,
   "metadata": {
    "ExecuteTime": {
     "end_time": "2019-07-09T08:51:37.944213Z",
     "start_time": "2019-07-09T08:51:37.941227Z"
    }
   },
   "outputs": [
    {
     "data": {
      "text/plain": [
       "('AGCNr',\n",
       " 'objID',\n",
       " 'RAdeg_HI',\n",
       " 'DECdeg_HI',\n",
       " 'W50',\n",
       " 'Dist',\n",
       " 'HIcode',\n",
       " 'petroMag_r',\n",
       " 'logMH',\n",
       " 'SERSIC_MASS',\n",
       " 'ELPETRO_MASS',\n",
       " 'col1')"
      ]
     },
     "execution_count": 6,
     "metadata": {},
     "output_type": "execute_result"
    }
   ],
   "source": [
    "survey[1].data.dtype.names"
   ]
  },
  {
   "cell_type": "code",
   "execution_count": null,
   "metadata": {},
   "outputs": [],
   "source": []
  },
  {
   "cell_type": "code",
   "execution_count": null,
   "metadata": {},
   "outputs": [],
   "source": [
    "wp()"
   ]
  },
  {
   "cell_type": "code",
   "execution_count": null,
   "metadata": {},
   "outputs": [],
   "source": []
  }
 ],
 "metadata": {
  "kernelspec": {
   "display_name": "Python 3",
   "language": "python",
   "name": "python3"
  },
  "language_info": {
   "codemirror_mode": {
    "name": "ipython",
    "version": 3
   },
   "file_extension": ".py",
   "mimetype": "text/x-python",
   "name": "python",
   "nbconvert_exporter": "python",
   "pygments_lexer": "ipython3",
   "version": "3.6.8"
  }
 },
 "nbformat": 4,
 "nbformat_minor": 2
}
