{
 "cells": [
  {
   "cell_type": "markdown",
   "metadata": {},
   "source": [
    "# Observed correlation function"
   ]
  },
  {
   "cell_type": "code",
   "execution_count": 1,
   "metadata": {
    "ExecuteTime": {
     "end_time": "2019-07-08T15:20:06.092874Z",
     "start_time": "2019-07-08T15:20:04.462793Z"
    }
   },
   "outputs": [],
   "source": [
    "import numpy as np\n",
    "import matplotlib.pyplot as plt\n",
    "import Corrfunc\n",
    "from Corrfunc.theory import wp\n",
    "from astropy.io import fits"
   ]
  },
  {
   "cell_type": "code",
   "execution_count": 2,
   "metadata": {
    "ExecuteTime": {
     "end_time": "2019-07-08T15:20:06.123068Z",
     "start_time": "2019-07-08T15:20:06.100970Z"
    }
   },
   "outputs": [],
   "source": [
    "survey = fits.open('../BAM/a100springfull.fits')"
   ]
  },
  {
   "cell_type": "code",
   "execution_count": 3,
   "metadata": {
    "ExecuteTime": {
     "end_time": "2019-07-08T15:20:09.841829Z",
     "start_time": "2019-07-08T15:20:08.710373Z"
    }
   },
   "outputs": [
    {
     "name": "stdout",
     "output_type": "stream",
     "text": [
      "Filename: ../BAM/a100springfull.fits\n",
      "No.    Name      Ver    Type      Cards   Dimensions   Format\n",
      "  0  PRIMARY       1 PrimaryHDU      16   (3372,)   uint8   \n",
      "  1  Joined        1 BinTableHDU     37   12874R x 12C   [J, K, D, D, I, E, I, D, E, E, E, J]   \n"
     ]
    }
   ],
   "source": [
    "survey.info()"
   ]
  },
  {
   "cell_type": "code",
   "execution_count": 7,
   "metadata": {
    "ExecuteTime": {
     "end_time": "2019-07-08T15:20:49.268419Z",
     "start_time": "2019-07-08T15:20:49.238148Z"
    }
   },
   "outputs": [
    {
     "data": {
      "text/plain": [
       "FITS_rec([ (193686, 1237648721752621294,  145.82541,   0.36167, 154,   97.09999847, 1,  17.00316,  9.56000042,   1.29460902e+09,   1.47815411e+09, 193686),\n",
       "          (193685, 1237648721752621240,  145.78999,   0.32   ,  55,  111.90000153, 1,  17.78769,  9.36999989,   1.65559552e+08,   1.63575968e+08, 193685),\n",
       "          (193688, 1237650796756795601,  145.93666,   0.52639, 216,  135.3999939 , 1,  16.3537 ,  9.94999981,   3.96654336e+09,   2.07395264e+09, 193688),\n",
       "          ...,\n",
       "          (749367, 1237661463844422036,  246.88751,  26.44639, 223,   66.40000153, 1,  15.83071,  9.75      ,              nan,              nan, 749367),\n",
       "          ( 10402, 1237668337400348782,  247.17584,  12.75694, 160,  116.09999847, 1,  17.73654,  9.84000015,              nan,              nan,  10402),\n",
       "          (268169, 1237668332039897769,  247.41583,   8.26417, 146,  142.3999939 , 1,  16.667  ,  9.80000019,              nan,              nan, 268169)],\n",
       "         dtype=(numpy.record, [('AGCNr', '>i4'), ('objID', '>i8'), ('RAdeg_HI', '>f8'), ('DECdeg_HI', '>f8'), ('W50', '>i2'), ('Dist', '>f4'), ('HIcode', '>i2'), ('petroMag_r', '>f8'), ('logMH', '>f4'), ('SERSIC_MASS', '>f4'), ('ELPETRO_MASS', '>f4'), ('col1', '>i4')]))"
      ]
     },
     "execution_count": 7,
     "metadata": {},
     "output_type": "execute_result"
    }
   ],
   "source": [
    "survey[1].data"
   ]
  },
  {
   "cell_type": "code",
   "execution_count": 23,
   "metadata": {
    "ExecuteTime": {
     "end_time": "2019-07-08T15:23:55.514316Z",
     "start_time": "2019-07-08T15:23:55.510790Z"
    }
   },
   "outputs": [
    {
     "data": {
      "text/plain": [
       "array([ nan,  nan,  nan, ...,  nan,  nan,  nan], dtype=float32)"
      ]
     },
     "execution_count": 23,
     "metadata": {},
     "output_type": "execute_result"
    }
   ],
   "source": [
    "survey[1].data['SERSIC_MASS'][10359:]"
   ]
  },
  {
   "cell_type": "code",
   "execution_count": 21,
   "metadata": {
    "ExecuteTime": {
     "end_time": "2019-07-08T15:23:39.883330Z",
     "start_time": "2019-07-08T15:23:39.879824Z"
    }
   },
   "outputs": [
    {
     "data": {
      "text/plain": [
       "(array([10359, 10360, 10361, ..., 12871, 12872, 12873]),)"
      ]
     },
     "execution_count": 21,
     "metadata": {},
     "output_type": "execute_result"
    }
   ],
   "source": [
    "np.where(np.isnan(survey[1].data['SERSIC_MASS'])==True)"
   ]
  },
  {
   "cell_type": "code",
   "execution_count": null,
   "metadata": {},
   "outputs": [],
   "source": []
  }
 ],
 "metadata": {
  "kernelspec": {
   "display_name": "Python 3",
   "language": "python",
   "name": "python3"
  },
  "language_info": {
   "codemirror_mode": {
    "name": "ipython",
    "version": 3
   },
   "file_extension": ".py",
   "mimetype": "text/x-python",
   "name": "python",
   "nbconvert_exporter": "python",
   "pygments_lexer": "ipython3",
   "version": "3.6.8"
  }
 },
 "nbformat": 4,
 "nbformat_minor": 2
}
