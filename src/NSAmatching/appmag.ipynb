{
 "cells": [
  {
   "cell_type": "code",
   "execution_count": 9,
   "metadata": {
    "ExecuteTime": {
     "end_time": "2019-09-20T10:55:38.841127Z",
     "start_time": "2019-09-20T10:55:38.838397Z"
    }
   },
   "outputs": [],
   "source": [
    "import numpy as np\n",
    "import matplotlib.pyplot as plt\n",
    "from astropy.io import fits\n",
    "\n",
    "from scipy.constants import c as speed_of_light"
   ]
  },
  {
   "cell_type": "code",
   "execution_count": 2,
   "metadata": {
    "ExecuteTime": {
     "end_time": "2019-09-20T10:53:55.059256Z",
     "start_time": "2019-09-20T10:53:54.846398Z"
    }
   },
   "outputs": [],
   "source": [
    "catalog = fits.open(\"../../BAM/nsa_v1_0_1.fits\")[1].data\n",
    "h = 0.688"
   ]
  },
  {
   "cell_type": "code",
   "execution_count": 13,
   "metadata": {
    "ExecuteTime": {
     "end_time": "2019-09-20T10:56:13.487153Z",
     "start_time": "2019-09-20T10:56:13.459603Z"
    }
   },
   "outputs": [],
   "source": [
    "absolute_magnitude = catalog['SERSIC_ABSMAG'][:, 4] - 5*np.log10(h)\n",
    "K_correction  = catalog['SERSIC_KCORRECT'][:, 4]\n",
    "comoving_distance = catalog['ZDIST']*speed_of_light*1e-3/(h*100)\n",
    "redshift = catalog['ZDIST']"
   ]
  },
  {
   "cell_type": "code",
   "execution_count": 16,
   "metadata": {
    "ExecuteTime": {
     "end_time": "2019-09-20T10:58:20.523540Z",
     "start_time": "2019-09-20T10:58:20.520869Z"
    }
   },
   "outputs": [],
   "source": [
    "def absmag2appmag(M, comoving_distance, redshift, Kcorr):\n",
    "    luminosity_distance = (1+redshift)*comoving_distance\n",
    "    return M+25+5*np.log10(luminosity_distance)+Kcorr\n",
    "    "
   ]
  },
  {
   "cell_type": "code",
   "execution_count": 18,
   "metadata": {
    "ExecuteTime": {
     "end_time": "2019-09-20T10:58:28.412117Z",
     "start_time": "2019-09-20T10:58:28.380350Z"
    }
   },
   "outputs": [],
   "source": [
    "apparent_magnitude = absmag2appmag(absolute_magnitude, comoving_distance, redshift, K_correction)"
   ]
  },
  {
   "cell_type": "code",
   "execution_count": 24,
   "metadata": {
    "ExecuteTime": {
     "end_time": "2019-09-20T11:01:11.408576Z",
     "start_time": "2019-09-20T11:01:09.376036Z"
    }
   },
   "outputs": [
    {
     "data": {
      "image/png": "[encoded data removed]",
      "text/plain": [
       "<matplotlib.figure.Figure at 0x7f3a39daf710>"
      ]
     },
     "metadata": {
      "needs_background": "light"
     },
     "output_type": "display_data"
    }
   ],
   "source": [
    "IDS = np.where(np.isfinite(apparent_magnitude))\n",
    "\n",
    "plt.figure(dpi=120)\n",
    "plt.hist(apparent_magnitude[IDS], bins='auto')\n",
    "plt.xlim(14, 22)\n",
    "plt.axvline(17.6, c='black')\n",
    "plt.xlabel(\"apparent magnitude\")\n",
    "plt.show()"
   ]
  },
  {
   "cell_type": "code",
   "execution_count": null,
   "metadata": {},
   "outputs": [],
   "source": []
  }
 ],
 "metadata": {
  "kernelspec": {
   "display_name": "Python 3",
   "language": "python",
   "name": "python3"
  },
  "language_info": {
   "codemirror_mode": {
    "name": "ipython",
    "version": 3
   },
   "file_extension": ".py",
   "mimetype": "text/x-python",
   "name": "python",
   "nbconvert_exporter": "python",
   "pygments_lexer": "ipython3",
   "version": "3.6.8"
  }
 },
 "nbformat": 4,
 "nbformat_minor": 2
}
