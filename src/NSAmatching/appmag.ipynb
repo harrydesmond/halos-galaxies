{
 "cells": [
  {
   "cell_type": "code",
   "execution_count": 1,
   "metadata": {
    "ExecuteTime": {
     "end_time": "2019-09-20T13:58:47.037739Z",
     "start_time": "2019-09-20T13:58:46.602678Z"
    }
   },
   "outputs": [],
   "source": [
    "import numpy as np\n",
    "import matplotlib.pyplot as plt\n",
    "from astropy.io import fits\n",
    "\n",
    "from scipy.constants import c as speed_of_light"
   ]
  },
  {
   "cell_type": "code",
   "execution_count": 5,
   "metadata": {
    "ExecuteTime": {
     "end_time": "2019-09-20T14:01:07.626048Z",
     "start_time": "2019-09-20T14:01:07.574800Z"
    }
   },
   "outputs": [],
   "source": [
    "catalog = fits.open(\"../../BAM/nsa_v1_0_1.fits\")[1].data\n",
    "h = 1"
   ]
  },
  {
   "cell_type": "code",
   "execution_count": 6,
   "metadata": {
    "ExecuteTime": {
     "end_time": "2019-09-20T14:01:08.280693Z",
     "start_time": "2019-09-20T14:01:08.056872Z"
    }
   },
   "outputs": [],
   "source": [
    "def absmag2appmag(M, comoving_distance, redshift, Kcorr):\n",
    "    luminosity_distance = (1+redshift)*comoving_distance\n",
    "    return M+25+5*np.log10(luminosity_distance)+Kcorr\n",
    "\n",
    "absolute_magnitude = catalog['ELPETRO_ABSMAG'][:, 4] - 5*np.log10(h)\n",
    "K_correction  = catalog['ELPETRO_KCORRECT'][:, 4]\n",
    "comoving_distance = catalog['ZDIST']*speed_of_light*1e-3/(h*100)\n",
    "redshift = catalog['Z']\n",
    "apparent_magnitude = absmag2appmag(absolute_magnitude, comoving_distance, redshift, K_correction)\n",
    "\n"
   ]
  },
  {
   "cell_type": "code",
   "execution_count": 11,
   "metadata": {
    "ExecuteTime": {
     "end_time": "2019-09-20T14:02:47.461745Z",
     "start_time": "2019-09-20T14:02:45.381214Z"
    }
   },
   "outputs": [
    {
     "data": {
      "image/png": "[encoded data removed]",
      "text/plain": [
       "<matplotlib.figure.Figure at 0x7f40b0de4978>"
      ]
     },
     "metadata": {
      "needs_background": "light"
     },
     "output_type": "display_data"
    }
   ],
   "source": [
    "IDS = np.where(np.isfinite(apparent_magnitude))\n",
    "\n",
    "plt.figure(dpi=120)\n",
    "plt.hist(apparent_magnitude[IDS], bins='auto')\n",
    "plt.xlim(14, 22)\n",
    "plt.axvline(17.77, c='black', alpha=0.8)\n",
    "plt.xlabel(\"apparent magnitude\")\n",
    "plt.show()"
   ]
  },
  {
   "cell_type": "code",
   "execution_count": null,
   "metadata": {},
   "outputs": [],
   "source": []
  },
  {
   "cell_type": "code",
   "execution_count": null,
   "metadata": {},
   "outputs": [],
   "source": []
  },
  {
   "cell_type": "code",
   "execution_count": null,
   "metadata": {},
   "outputs": [],
   "source": []
  },
  {
   "cell_type": "code",
   "execution_count": null,
   "metadata": {},
   "outputs": [],
   "source": [
    "# RA = catalog['RA']\n",
    "# DEC = catalog['DEC']\n",
    "# MS = catalog['SERSIC_MASS']\n",
    "\n",
    "# IDS = np.where(np.isfinite(apparent_magnitude))\n",
    "# absolute_magnitude = absolute_magnitude[IDS]\n",
    "# apparent_magnitude = apparent_magnitude[IDS]\n",
    "# RA = RA[IDS]\n",
    "# DEC = DEC[IDS]\n",
    "# MS = MS[IDS]\n",
    "# comoving_distance = comoving_distance[IDS]\n",
    "\n",
    "# IDS = np.where(np.logical_and(DEC > 0, DEC < 60))\n",
    "# absolute_magnitude = absolute_magnitude[IDS]\n",
    "# apparent_magnitude = apparent_magnitude[IDS]\n",
    "# RA = RA[IDS]\n",
    "# DEC = DEC[IDS]\n",
    "# MS = MS[IDS]\n",
    "# comoving_distance = comoving_distance[IDS]\n",
    "\n",
    "# IDS = np.where(np.logical_and(RA < 240, RA > 120))\n",
    "# absolute_magnitude = absolute_magnitude[IDS]\n",
    "# apparent_magnitude = apparent_magnitude[IDS]\n",
    "# RA = RA[IDS]\n",
    "# DEC = DEC[IDS]\n",
    "# MS = MS[IDS]\n",
    "# comoving_distance = comoving_distance[IDS]\n",
    "\n",
    "# IDS = np.where(np.isfinite(MS))\n",
    "# absolute_magnitude = absolute_magnitude[IDS]\n",
    "# apparent_magnitude = apparent_magnitude[IDS]\n",
    "# RA = RA[IDS]\n",
    "# DEC = DEC[IDS]\n",
    "# MS = MS[IDS]\n",
    "# comoving_distance = comoving_distance[IDS]\n",
    "\n",
    "# IDS = np.where(MS > 0)\n",
    "# absolute_magnitude = absolute_magnitude[IDS]\n",
    "# apparent_magnitude = apparent_magnitude[IDS]\n",
    "# RA = RA[IDS]\n",
    "# DEC = DEC[IDS]\n",
    "# MS = MS[IDS]\n",
    "# comoving_distance = comoving_distance[IDS]\n",
    "\n",
    "\n",
    "\n",
    "# IDS = np.where(np.logical_and(apparent_magnitude < 17.6, apparent_magnitude>12))\n",
    "# absolute_magnitude = absolute_magnitude[IDS]\n",
    "# apparent_magnitude = apparent_magnitude[IDS]\n",
    "# RA = RA[IDS]\n",
    "# DEC = DEC[IDS]\n",
    "# MS = MS[IDS]\n",
    "# comoving_distance = comoving_distance[IDS]\n",
    "\n",
    "# logMS = np.log10(MS)-2*np.log10(h)"
   ]
  }
 ],
 "metadata": {
  "kernelspec": {
   "display_name": "Python 3",
   "language": "python",
   "name": "python3"
  },
  "language_info": {
   "codemirror_mode": {
    "name": "ipython",
    "version": 3
   },
   "file_extension": ".py",
   "mimetype": "text/x-python",
   "name": "python",
   "nbconvert_exporter": "python",
   "pygments_lexer": "ipython3",
   "version": "3.6.8"
  }
 },
 "nbformat": 4,
 "nbformat_minor": 2
}
