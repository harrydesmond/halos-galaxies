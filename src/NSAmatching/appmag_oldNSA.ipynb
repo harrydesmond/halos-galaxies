{
 "cells": [
  {
   "cell_type": "code",
   "execution_count": 1,
   "metadata": {
    "ExecuteTime": {
     "end_time": "2019-09-20T13:39:45.709941Z",
     "start_time": "2019-09-20T13:39:45.332912Z"
    }
   },
   "outputs": [],
   "source": [
    "import numpy as np\n",
    "import matplotlib.pyplot as plt\n",
    "from scipy.constants import c as speed_of_light\n",
    "from astropy.io import fits"
   ]
  },
  {
   "cell_type": "code",
   "execution_count": 4,
   "metadata": {
    "ExecuteTime": {
     "end_time": "2019-09-20T13:40:03.695808Z",
     "start_time": "2019-09-20T13:40:03.473324Z"
    }
   },
   "outputs": [],
   "source": [
    "catalog = fits.open(\"../../Data/nsa_v0_1_2.fits\")[1].data"
   ]
  },
  {
   "cell_type": "code",
   "execution_count": 21,
   "metadata": {
    "ExecuteTime": {
     "end_time": "2019-09-20T13:45:43.318942Z",
     "start_time": "2019-09-20T13:45:43.305202Z"
    }
   },
   "outputs": [],
   "source": [
    "h = 0.688\n",
    "absolute_magnitude = catalog['ABSMAG'][:, 4] - 5*np.log10(h)\n",
    "K_correction  = catalog['KCORRECT'][:, 4]\n",
    "comoving_distance = catalog['ZDIST']*speed_of_light*1e-3/(h*100)\n",
    "redshift = catalog['Z']"
   ]
  },
  {
   "cell_type": "code",
   "execution_count": 22,
   "metadata": {
    "ExecuteTime": {
     "end_time": "2019-09-20T13:45:43.645934Z",
     "start_time": "2019-09-20T13:45:43.643338Z"
    }
   },
   "outputs": [],
   "source": [
    "def absmag2appmag(M, comoving_distance, redshift, Kcorr):\n",
    "    luminosity_distance = (1+redshift)*comoving_distance\n",
    "    return M+25+5*np.log10(luminosity_distance)+Kcorr"
   ]
  },
  {
   "cell_type": "code",
   "execution_count": 23,
   "metadata": {
    "ExecuteTime": {
     "end_time": "2019-09-20T13:45:44.034225Z",
     "start_time": "2019-09-20T13:45:44.023287Z"
    }
   },
   "outputs": [],
   "source": [
    "apparent_magnitude = absmag2appmag(absolute_magnitude, comoving_distance, redshift, K_correction)"
   ]
  },
  {
   "cell_type": "code",
   "execution_count": 28,
   "metadata": {
    "ExecuteTime": {
     "end_time": "2019-09-20T13:46:19.904561Z",
     "start_time": "2019-09-20T13:46:19.179473Z"
    }
   },
   "outputs": [
    {
     "data": {
      "image/png": "[encoded data removed]",
      "text/plain": [
       "<matplotlib.figure.Figure at 0x7f4918a57ba8>"
      ]
     },
     "metadata": {
      "needs_background": "light"
     },
     "output_type": "display_data"
    }
   ],
   "source": [
    "IDS = np.where(np.isfinite(apparent_magnitude))\n",
    "\n",
    "plt.figure(dpi=120)\n",
    "plt.hist(apparent_magnitude[IDS], bins='auto')\n",
    "plt.xlim(13, 21)\n",
    "plt.axvline(17.6, c='black')\n",
    "plt.axvline(19.3, c='red')\n",
    "plt.show()"
   ]
  },
  {
   "cell_type": "code",
   "execution_count": null,
   "metadata": {},
   "outputs": [],
   "source": []
  }
 ],
 "metadata": {
  "kernelspec": {
   "display_name": "Python 3",
   "language": "python",
   "name": "python3"
  },
  "language_info": {
   "codemirror_mode": {
    "name": "ipython",
    "version": 3
   },
   "file_extension": ".py",
   "mimetype": "text/x-python",
   "name": "python",
   "nbconvert_exporter": "python",
   "pygments_lexer": "ipython3",
   "version": "3.6.8"
  }
 },
 "nbformat": 4,
 "nbformat_minor": 2
}
