{
 "cells": [
  {
   "cell_type": "code",
   "execution_count": 3,
   "metadata": {
    "ExecuteTime": {
     "end_time": "2019-09-20T13:25:39.158334Z",
     "start_time": "2019-09-20T13:25:38.930852Z"
    }
   },
   "outputs": [],
   "source": [
    "import numpy as np\n",
    "import matplotlib.pyplot as plt\n",
    "from scipy.constants import c as speed_of_light\n",
    "from astropy.io import fits"
   ]
  },
  {
   "cell_type": "code",
   "execution_count": 4,
   "metadata": {
    "ExecuteTime": {
     "end_time": "2019-09-20T13:26:00.481262Z",
     "start_time": "2019-09-20T13:26:00.201865Z"
    }
   },
   "outputs": [],
   "source": [
    "catalog = fits.open(\"../../BAM/a100springfull.fits\")[1].data"
   ]
  },
  {
   "cell_type": "code",
   "execution_count": 5,
   "metadata": {
    "ExecuteTime": {
     "end_time": "2019-09-20T13:26:03.999756Z",
     "start_time": "2019-09-20T13:26:03.993912Z"
    }
   },
   "outputs": [
    {
     "data": {
      "text/plain": [
       "('AGCNr',\n",
       " 'objID',\n",
       " 'RAdeg_HI',\n",
       " 'DECdeg_HI',\n",
       " 'W50',\n",
       " 'Dist',\n",
       " 'HIcode',\n",
       " 'petroMag_r',\n",
       " 'logMH',\n",
       " 'SERSIC_MASS',\n",
       " 'ELPETRO_MASS',\n",
       " 'col1')"
      ]
     },
     "execution_count": 5,
     "metadata": {},
     "output_type": "execute_result"
    }
   ],
   "source": [
    "catalog.dtype.names"
   ]
  },
  {
   "cell_type": "code",
   "execution_count": 9,
   "metadata": {
    "ExecuteTime": {
     "end_time": "2019-09-20T13:27:31.261219Z",
     "start_time": "2019-09-20T13:27:31.067369Z"
    }
   },
   "outputs": [
    {
     "data": {
      "image/png": "[encoded data removed]",
      "text/plain": [
       "<matplotlib.figure.Figure at 0x7fd54974bc50>"
      ]
     },
     "metadata": {
      "needs_background": "light"
     },
     "output_type": "display_data"
    }
   ],
   "source": [
    "appmag = catalog['petroMag_r']\n",
    "IDS = np.where(np.isfinite(appmag))\n",
    "\n",
    "plt.figure(dpi=120)\n",
    "plt.hist(appmag[IDS], bins='auto')\n",
    "plt.axvline(17.6, c='black')\n",
    "plt.show()"
   ]
  },
  {
   "cell_type": "code",
   "execution_count": 10,
   "metadata": {
    "ExecuteTime": {
     "end_time": "2019-09-20T13:28:21.929194Z",
     "start_time": "2019-09-20T13:28:21.925819Z"
    }
   },
   "outputs": [
    {
     "data": {
      "text/plain": [
       "0.8254621718191705"
      ]
     },
     "execution_count": 10,
     "metadata": {},
     "output_type": "execute_result"
    }
   ],
   "source": [
    "np.where(appmag[IDS]<17.6)[0].size/appmag.size"
   ]
  }
 ],
 "metadata": {
  "kernelspec": {
   "display_name": "Python 3",
   "language": "python",
   "name": "python3"
  },
  "language_info": {
   "codemirror_mode": {
    "name": "ipython",
    "version": 3
   },
   "file_extension": ".py",
   "mimetype": "text/x-python",
   "name": "python",
   "nbconvert_exporter": "python",
   "pygments_lexer": "ipython3",
   "version": "3.6.8"
  }
 },
 "nbformat": 4,
 "nbformat_minor": 2
}
