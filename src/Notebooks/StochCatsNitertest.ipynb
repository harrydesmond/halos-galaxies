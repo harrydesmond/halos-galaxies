{
 "cells": [
  {
   "cell_type": "code",
   "execution_count": 1,
   "metadata": {
    "ExecuteTime": {
     "end_time": "2019-07-30T09:28:16.570675Z",
     "start_time": "2019-07-30T09:28:16.283533Z"
    }
   },
   "outputs": [],
   "source": [
    "import numpy as np\n",
    "import matplotlib.pyplot as plt\n",
    "import sys\n",
    "# insert at 1, 0 is the script path (or '' in REPL)\n",
    "sys.path.insert(1, \"../Code\")"
   ]
  },
  {
   "cell_type": "code",
   "execution_count": 2,
   "metadata": {
    "ExecuteTime": {
     "end_time": "2019-07-30T09:28:47.956107Z",
     "start_time": "2019-07-30T09:28:17.251606Z"
    }
   },
   "outputs": [],
   "source": [
    "import Setup as p\n",
    "import Likelihood\n",
    "model = Likelihood.Posterior()"
   ]
  },
  {
   "cell_type": "code",
   "execution_count": 19,
   "metadata": {
    "ExecuteTime": {
     "end_time": "2019-07-30T10:09:02.101332Z",
     "start_time": "2019-07-30T10:03:49.331155Z"
    }
   },
   "outputs": [
    {
     "name": "stderr",
     "output_type": "stream",
     "text": [
      "../Code/Likelihood.py:87: RuntimeWarning: invalid value encountered in greater\n",
      "  mask = (~np.isnan(cat_this)) & (cat_this>9.8)\n"
     ]
    }
   ],
   "source": [
    "catalogs = model.abundance_match(alpha=0.5, scatter=0.16, Niter=60)"
   ]
  },
  {
   "cell_type": "code",
   "execution_count": 22,
   "metadata": {
    "ExecuteTime": {
     "end_time": "2019-07-30T10:21:43.250736Z",
     "start_time": "2019-07-30T10:21:43.248018Z"
    }
   },
   "outputs": [],
   "source": [
    "ncats = [5, 10, 15, 20, 25, 30, 40, 50, 60]"
   ]
  },
  {
   "cell_type": "code",
   "execution_count": 23,
   "metadata": {
    "ExecuteTime": {
     "end_time": "2019-07-30T10:24:10.779432Z",
     "start_time": "2019-07-30T10:21:44.432755Z"
    }
   },
   "outputs": [
    {
     "name": "stdout",
     "output_type": "stream",
     "text": [
      "(5, 30) (30,)\n",
      "(10, 30) (30,)\n",
      "(15, 30) (30,)\n",
      "(20, 30) (30,)\n",
      "(25, 30) (30,)\n",
      "(30, 30) (30,)\n",
      "(40, 30) (30,)\n",
      "(50, 30) (30,)\n",
      "(60, 30) (30,)\n"
     ]
    }
   ],
   "source": [
    "covmats = list()\n",
    "mean_wps = list()\n",
    "for num in ncats:\n",
    "    cats = catalogs[:num]\n",
    "    covmat, mean_wp = model.stoch_covmat_mean(cats)\n",
    "    covmats.append(covmat)\n",
    "    mean_wps.append(mean_wp)"
   ]
  },
  {
   "cell_type": "code",
   "execution_count": null,
   "metadata": {
    "ExecuteTime": {
     "start_time": "2019-07-30T12:48:32.442Z"
    }
   },
   "outputs": [],
   "source": [
    "x = p.bin_centers(model.rp_bins)\n",
    "plt.figure(dpi=180, figsize=(5, 3))\n",
    "for i in range(3, len(mean_wps)):\n",
    "#     plt.loglog(x, np.sqrt(np.diagonal(covmats[i])), label=ncats[i])\n",
    "    plt.loglog(x, mean_wps[i], label=ncats[i])\n",
    "plt.legend(fontsize='x-small')\n",
    "plt.show()"
   ]
  },
  {
   "cell_type": "code",
   "execution_count": 40,
   "metadata": {
    "ExecuteTime": {
     "end_time": "2019-07-30T12:34:56.894574Z",
     "start_time": "2019-07-30T12:34:56.891740Z"
    }
   },
   "outputs": [],
   "source": [
    "x = np.linspace(0, 0.3, 25)\n",
    "y = np.linspace(0, 1.5, 25)\n",
    "\n",
    "XX, YY = np.meshgrid(x, y)"
   ]
  },
  {
   "cell_type": "code",
   "execution_count": 43,
   "metadata": {
    "ExecuteTime": {
     "end_time": "2019-07-30T12:36:31.125352Z",
     "start_time": "2019-07-30T12:36:31.122529Z"
    }
   },
   "outputs": [
    {
     "data": {
      "text/plain": [
       "625"
      ]
     },
     "execution_count": 43,
     "metadata": {},
     "output_type": "execute_result"
    }
   ],
   "source": [
    "XX.size"
   ]
  },
  {
   "cell_type": "code",
   "execution_count": 44,
   "metadata": {
    "ExecuteTime": {
     "end_time": "2019-07-30T12:36:45.901098Z",
     "start_time": "2019-07-30T12:36:45.898178Z"
    }
   },
   "outputs": [
    {
     "data": {
      "text/plain": [
       "1.736111111111111"
      ]
     },
     "execution_count": 44,
     "metadata": {},
     "output_type": "execute_result"
    }
   ],
   "source": [
    "XX.size*4/60/24"
   ]
  },
  {
   "cell_type": "code",
   "execution_count": null,
   "metadata": {},
   "outputs": [],
   "source": []
  }
 ],
 "metadata": {
  "kernelspec": {
   "display_name": "Python 3",
   "language": "python",
   "name": "python3"
  },
  "language_info": {
   "codemirror_mode": {
    "name": "ipython",
    "version": 3
   },
   "file_extension": ".py",
   "mimetype": "text/x-python",
   "name": "python",
   "nbconvert_exporter": "python",
   "pygments_lexer": "ipython3",
   "version": "3.6.8"
  }
 },
 "nbformat": 4,
 "nbformat_minor": 2
}
