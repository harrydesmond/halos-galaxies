{
 "cells": [
  {
   "cell_type": "code",
   "execution_count": 9,
   "metadata": {
    "ExecuteTime": {
     "end_time": "2019-07-19T13:41:44.567399Z",
     "start_time": "2019-07-19T13:41:41.867075Z"
    }
   },
   "outputs": [],
   "source": [
    "import numpy as np\n",
    "import matplotlib.pyplot as plt\n",
    "import healpy as hp"
   ]
  },
  {
   "cell_type": "code",
   "execution_count": 21,
   "metadata": {
    "ExecuteTime": {
     "end_time": "2019-07-19T13:50:21.643825Z",
     "start_time": "2019-07-19T13:50:21.623230Z"
    }
   },
   "outputs": [],
   "source": [
    "pixs_list = np.load(\"../Data/gpixs_list.npy\")\n",
    "nside=16"
   ]
  },
  {
   "cell_type": "code",
   "execution_count": 22,
   "metadata": {
    "ExecuteTime": {
     "end_time": "2019-07-19T13:50:26.973347Z",
     "start_time": "2019-07-19T13:50:26.769370Z"
    },
    "scrolled": false
   },
   "outputs": [
    {
     "data": {
      "image/png": "[encoded data removed]",
      "text/plain": [
       "<matplotlib.figure.Figure at 0x7f81fceff2e8>"
      ]
     },
     "metadata": {
      "needs_background": "light"
     },
     "output_type": "display_data"
    }
   ],
   "source": [
    "hpmap = np.zeros(hp.nside2npix(nside))\n",
    "hpmap[pixs_list] = 1\n",
    "\n",
    "hp.mollview(hpmap, rot=[180, 0, 0])"
   ]
  },
  {
   "cell_type": "code",
   "execution_count": 43,
   "metadata": {
    "ExecuteTime": {
     "end_time": "2019-07-19T13:58:31.935215Z",
     "start_time": "2019-07-19T13:58:31.903184Z"
    },
    "scrolled": true
   },
   "outputs": [],
   "source": [
    "inside_pixs = list()\n",
    "for px in pixs_list:\n",
    "    ngbhs = hp.get_all_neighbours(nside, px)\n",
    "    flag = False\n",
    "    for ngbh in ngbhs:\n",
    "        if ngbh == -1:\n",
    "            ngbh = hp.nside2npix(nside) - 1\n",
    "        if not ngbh in pixs_list:\n",
    "            flag = True\n",
    "    \n",
    "    if flag == False:\n",
    "        inside_pixs.append(px)\n"
   ]
  },
  {
   "cell_type": "code",
   "execution_count": 44,
   "metadata": {
    "ExecuteTime": {
     "end_time": "2019-07-19T13:58:32.755094Z",
     "start_time": "2019-07-19T13:58:32.534412Z"
    }
   },
   "outputs": [
    {
     "data": {
      "image/png": "[encoded data removed]",
      "text/plain": [
       "<matplotlib.figure.Figure at 0x7f81fd007278>"
      ]
     },
     "metadata": {
      "needs_background": "light"
     },
     "output_type": "display_data"
    }
   ],
   "source": [
    "m = hpmap\n",
    "m[inside_pixs] = 2\n",
    "hp.mollview(m, rot=[180, 0,0])"
   ]
  },
  {
   "cell_type": "code",
   "execution_count": 45,
   "metadata": {
    "ExecuteTime": {
     "end_time": "2019-07-19T14:03:45.018524Z",
     "start_time": "2019-07-19T14:03:45.012510Z"
    }
   },
   "outputs": [
    {
     "data": {
      "text/plain": [
       "430"
      ]
     },
     "execution_count": 45,
     "metadata": {},
     "output_type": "execute_result"
    }
   ],
   "source": [
    "len(inside_pixs)"
   ]
  },
  {
   "cell_type": "code",
   "execution_count": 46,
   "metadata": {
    "ExecuteTime": {
     "end_time": "2019-07-19T14:41:40.827840Z",
     "start_time": "2019-07-19T14:41:40.824795Z"
    }
   },
   "outputs": [],
   "source": [
    "a = np.arange(1, 20)\n",
    "b = np.arange(5, 8)"
   ]
  },
  {
   "cell_type": "code",
   "execution_count": 52,
   "metadata": {
    "ExecuteTime": {
     "end_time": "2019-07-19T14:43:28.333700Z",
     "start_time": "2019-07-19T14:43:28.330698Z"
    }
   },
   "outputs": [
    {
     "data": {
      "text/plain": [
       "array([False, False, False, False,  True,  True,  True, False, False,\n",
       "       False, False, False, False, False, False, False, False, False, False], dtype=bool)"
      ]
     },
     "execution_count": 52,
     "metadata": {},
     "output_type": "execute_result"
    }
   ],
   "source": [
    "np.in1d(a, b)"
   ]
  },
  {
   "cell_type": "code",
   "execution_count": null,
   "metadata": {},
   "outputs": [],
   "source": []
  }
 ],
 "metadata": {
  "kernelspec": {
   "display_name": "Python 3",
   "language": "python",
   "name": "python3"
  },
  "language_info": {
   "codemirror_mode": {
    "name": "ipython",
    "version": 3
   },
   "file_extension": ".py",
   "mimetype": "text/x-python",
   "name": "python",
   "nbconvert_exporter": "python",
   "pygments_lexer": "ipython3",
   "version": "3.6.8"
  }
 },
 "nbformat": 4,
 "nbformat_minor": 2
}
