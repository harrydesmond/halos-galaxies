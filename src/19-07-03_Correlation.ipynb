{
 "cells": [
  {
   "cell_type": "markdown",
   "metadata": {},
   "source": [
    "## Halotools correlation function"
   ]
  },
  {
   "cell_type": "code",
   "execution_count": 1,
   "metadata": {},
   "outputs": [],
   "source": [
    "import numpy as np\n",
    "import matplotlib.pyplot\n",
    "import halotools\n",
    "import halotools.mock_observables\n",
    "import matplotlib.pyplot as plt\n",
    "from AbundanceMatching import *\n"
   ]
  },
  {
   "cell_type": "code",
   "execution_count": 2,
   "metadata": {},
   "outputs": [],
   "source": [
    "halos = np.load(\"../BAM/hlist_1.00000.npy\")"
   ]
  },
  {
   "cell_type": "code",
   "execution_count": 3,
   "metadata": {},
   "outputs": [],
   "source": [
    "num = np.arange(halos['x'].size)\n",
    "choice = np.random.choice(num, size=200000, replace=False)"
   ]
  },
  {
   "cell_type": "code",
   "execution_count": 4,
   "metadata": {},
   "outputs": [],
   "source": [
    "x = halos['x'][choice]\n",
    "y = halos['y'][choice]\n",
    "z = halos['z'][choice]\n",
    "coords = np.vstack((x, y, z)).T\n",
    "\n",
    "# array of boundaries defining the radial bins perpendicular to the LOS\n",
    "# in which pairs are counted. Length units are comoving and assumed to be\n",
    "# in Mpc/h, here and throughout Halotools.\n",
    "rp_bins = np.logspace(-1, np.log10(100), 50)\n",
    "# maximum LOS distance defining the projection integral length-scale in the z-dimension.\n",
    "# Length units are comoving and assumed to be in Mpc/h, here and throughout Halotools.\n",
    "pi_max = 10"
   ]
  },
  {
   "cell_type": "code",
   "execution_count": 5,
   "metadata": {},
   "outputs": [],
   "source": [
    "xi = halotools.mock_observables.wp(coords, rp_bins,pi_max, period=400, num_threads=12)"
   ]
  },
  {
   "cell_type": "code",
   "execution_count": 6,
   "metadata": {},
   "outputs": [
    {
     "data": {
      "text/plain": [
       "array([   0.1       ,    0.11513954,    0.13257114,    0.1526418 ,\n",
       "          0.17575106,    0.20235896,    0.23299518,    0.26826958,\n",
       "          0.30888436,    0.35564803,    0.40949151,    0.47148664,\n",
       "          0.54286754,    0.62505519,    0.71968567,    0.82864277,\n",
       "          0.95409548,    1.09854114,    1.26485522,    1.45634848,\n",
       "          1.67683294,    1.93069773,    2.22299648,    2.55954792,\n",
       "          2.9470517 ,    3.39322177,    3.90693994,    4.49843267,\n",
       "          5.17947468,    5.96362332,    6.86648845,    7.90604321,\n",
       "          9.10298178,   10.48113134,   12.06792641,   13.89495494,\n",
       "         15.9985872 ,   18.42069969,   21.20950888,   24.42053095,\n",
       "         28.11768698,   32.37457543,   37.2759372 ,   42.9193426 ,\n",
       "         49.41713361,   56.89866029,   65.51285569,   75.43120063,\n",
       "         86.85113738,  100.        ])"
      ]
     },
     "execution_count": 6,
     "metadata": {},
     "output_type": "execute_result"
    }
   ],
   "source": [
    "rp_bins"
   ]
  },
  {
   "cell_type": "code",
   "execution_count": 7,
   "metadata": {},
   "outputs": [
    {
     "data": {
      "image/png": "[encoded data removed]",
      "text/plain": [
       "<matplotlib.figure.Figure at 0x7efebedc9908>"
      ]
     },
     "metadata": {
      "needs_background": "light"
     },
     "output_type": "display_data"
    }
   ],
   "source": [
    "plt.figure(dpi=120)\n",
    "plt.semilogy(rp_bins[:-1], xi)\n",
    "plt.show()"
   ]
  },
  {
   "cell_type": "code",
   "execution_count": null,
   "metadata": {},
   "outputs": [],
   "source": []
  }
 ],
 "metadata": {
  "kernelspec": {
   "display_name": "Python 3",
   "language": "python",
   "name": "python3"
  },
  "language_info": {
   "codemirror_mode": {
    "name": "ipython",
    "version": 3
   },
   "file_extension": ".py",
   "mimetype": "text/x-python",
   "name": "python",
   "nbconvert_exporter": "python",
   "pygments_lexer": "ipython3",
   "version": "3.6.8"
  }
 },
 "nbformat": 4,
 "nbformat_minor": 2
}
